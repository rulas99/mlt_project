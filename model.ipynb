{
 "cells": [
  {
   "cell_type": "code",
   "execution_count": 41,
   "metadata": {},
   "outputs": [],
   "source": [
    "from sentence_transformers import SentenceTransformer, losses, InputExample, models\n",
    "from sentence_transformers.evaluation import InformationRetrievalEvaluator\n",
    "from torch.utils.data import DataLoader\n",
    "import torch\n",
    "from torch import nn\n",
    "\n",
    "import os\n",
    "\n",
    "import re\n",
    "import pandas as pd\n",
    "import numpy as np"
   ]
  },
  {
   "cell_type": "code",
   "execution_count": 57,
   "metadata": {},
   "outputs": [
    {
     "data": {
      "text/plain": [
       "SentenceTransformer(\n",
       "  (0): Transformer({'max_seq_length': 128, 'do_lower_case': False}) with Transformer model: BertModel \n",
       "  (1): Pooling({'word_embedding_dimension': 384, 'pooling_mode_cls_token': False, 'pooling_mode_mean_tokens': True, 'pooling_mode_max_tokens': False, 'pooling_mode_mean_sqrt_len_tokens': False, 'pooling_mode_weightedmean_tokens': False, 'pooling_mode_lasttoken': False, 'include_prompt': True})\n",
       "  (2): Normalize()\n",
       "  (3): AdapterModule(\n",
       "    (dense1): Linear(in_features=384, out_features=1024, bias=True)\n",
       "    (dense2): Linear(in_features=1024, out_features=512, bias=True)\n",
       "    (output): Linear(in_features=512, out_features=384, bias=True)\n",
       "    (activation): Tanh()\n",
       "    (dropout): Dropout(p=0.2, inplace=False)\n",
       "  )\n",
       ")"
      ]
     },
     "execution_count": 57,
     "metadata": {},
     "output_type": "execute_result"
    }
   ],
   "source": [
    "class AdapterModule(nn.Module):\n",
    "    def __init__(self, input_dim, output_dim, dropout_rate=0.2, add_residual=True):\n",
    "        super(AdapterModule, self).__init__()\n",
    "        self.dense1 = nn.Linear(in_features=input_dim, out_features=1024, bias=True)\n",
    "        self.dense2 = nn.Linear(in_features=1024, out_features=512, bias=True)\n",
    "        self.output = nn.Linear(in_features=512, out_features=output_dim)\n",
    "        self.activation = nn.Tanh()\n",
    "        self.dropout = nn.Dropout(dropout_rate)\n",
    "        self.add_residual = add_residual\n",
    "        if add_residual:\n",
    "            self.residual_weight = nn.Parameter(torch.zeros(1))\n",
    "\n",
    "    def forward(self, input_data):\n",
    "        x = input_data.get('sentence_embedding')\n",
    "        original_x = x if self.add_residual else None\n",
    "        x = self.dropout(self.activation(self.dense1(x)))\n",
    "        x = self.dropout(self.activation(self.dense2(x)))\n",
    "        x = self.output(x)\n",
    "        if self.add_residual:\n",
    "            x += self.residual_weight * original_x\n",
    "            \n",
    "        input_data['sentence_embedding'] = x\n",
    "        \n",
    "        return input_data\n",
    "    \n",
    "    def save(self, output_path):\n",
    "        torch.save(self.state_dict(), os.path.join(output_path, 'adapter_module.pt'))\n",
    "    \n",
    "word_embedding_model = models.Transformer(\n",
    "                            model_name_or_path=\"sentence-transformers/all-MiniLM-L12-v2\", \n",
    "                            max_seq_length=128, \n",
    "                            do_lower_case=False\n",
    "                            )\n",
    "\n",
    "# Parametros default del modelo base a utilizar\n",
    "pooling_model = models.Pooling(**{'word_embedding_dimension': 384, 'pooling_mode_cls_token': False, \n",
    "                                  'pooling_mode_mean_tokens': True, 'pooling_mode_max_tokens': False,\n",
    "                                  'pooling_mode_mean_sqrt_len_tokens': False, 'pooling_mode_weightedmean_tokens': False, \n",
    "                                  'pooling_mode_lasttoken': False, 'include_prompt': True})\n",
    "normalize = models.Normalize()\n",
    "\n",
    "# Unica sección que tiene pesos entrenables\n",
    "for param in word_embedding_model.parameters():\n",
    "    param.requires_grad = False\n",
    "    \n",
    "\n",
    "device = torch.device(\"cuda\" if torch.cuda.is_available() else \"cpu\")\n",
    "\n",
    "# Determinar la dimensión de entrada de acuerdo con la última capa del modelo base\n",
    "adapter = AdapterModule(384, 384).to(device)\n",
    "\n",
    "\n",
    "base_model = SentenceTransformer(modules=[word_embedding_model, pooling_model, normalize], device=device)\n",
    "\n",
    "custom_domain_model = SentenceTransformer(modules=[word_embedding_model, pooling_model, normalize, \n",
    "                                                   adapter],device=device)\n",
    "\n",
    "custom_domain_model"
   ]
  },
  {
   "cell_type": "code",
   "execution_count": 3,
   "metadata": {},
   "outputs": [],
   "source": [
    "# define evaluator\n",
    "#from sentence_transformers.evaluation import InformationRetrievalEvaluator\n",
    "# define over validation dataset\n",
    "\n",
    "#evaluator = InformationRetrievalEvaluator(queries, corpus, relevant_docs)\n"
   ]
  },
  {
   "cell_type": "code",
   "execution_count": 28,
   "metadata": {},
   "outputs": [],
   "source": [
    "data = pd.read_parquet(\"data/mlt_data_publications.parquet\")"
   ]
  },
  {
   "cell_type": "code",
   "execution_count": null,
   "metadata": {},
   "outputs": [],
   "source": [
    "titles_map = {row.paperId:row.title for row in data.itertuples()}\n",
    "\n",
    "related_pubs = [(titles_map[row.paperId], 'relatedWith', titles_map[row.source]) \n",
    "                for row in data.itertuples() if row.con_type!='base']\n",
    "\n",
    "question_answer_pairs = [\n",
    "    (f'Which paper is cited or referenced in the paper titled \"{triple[0]}\"?', triple[2])\n",
    "    for triple in related_pubs\n",
    "]"
   ]
  },
  {
   "cell_type": "code",
   "execution_count": 29,
   "metadata": {},
   "outputs": [],
   "source": [
    "authors = []\n",
    "for row in data.itertuples():\n",
    "    for author in row.authors:\n",
    "        names = [author.get('name')]\n",
    "        \n",
    "        try:\n",
    "            aliases = author.get('aliases').tolist()\n",
    "        except AttributeError:\n",
    "            aliases = []\n",
    "        \n",
    "        names += aliases\n",
    "        \n",
    "        names = [' '.join(set(re.sub(r'\\s+', ' ', name).split(' ')) )for name in names]\n",
    "\n",
    "        for name in list(set(names)):\n",
    "            authors.append({'author': name, 'publication': row.title, \n",
    "                            'paperId': row.paperId, 'authorId': author.get('authorId')})"
   ]
  },
  {
   "cell_type": "code",
   "execution_count": 30,
   "metadata": {},
   "outputs": [],
   "source": [
    "authors = pd.DataFrame(authors)"
   ]
  },
  {
   "cell_type": "code",
   "execution_count": 55,
   "metadata": {},
   "outputs": [],
   "source": [
    "question_answer_pairs_authors = [\n",
    "    (f'Who wrote the paper titled \"{row.publication}\"?', row.author)\n",
    "    for row in authors.sample(1000, random_state=42).itertuples()\n",
    "]\n"
   ]
  },
  {
   "cell_type": "code",
   "execution_count": 63,
   "metadata": {},
   "outputs": [],
   "source": [
    "train_examples = [\n",
    "    InputExample(texts=[qa[0], qa[1]])\n",
    "    for qa in question_answer_pairs_authors\n",
    "]"
   ]
  },
  {
   "cell_type": "code",
   "execution_count": 66,
   "metadata": {},
   "outputs": [
    {
     "data": {
      "application/vnd.jupyter.widget-view+json": {
       "model_id": "2688bac7abea4f10a70b704d00a0dddd",
       "version_major": 2,
       "version_minor": 0
      },
      "text/plain": [
       "Epoch:   0%|          | 0/10 [00:00<?, ?it/s]"
      ]
     },
     "metadata": {},
     "output_type": "display_data"
    },
    {
     "data": {
      "application/vnd.jupyter.widget-view+json": {
       "model_id": "eb09cb500d7c4cb581a19eb770b0b0e2",
       "version_major": 2,
       "version_minor": 0
      },
      "text/plain": [
       "Iteration:   0%|          | 0/32 [00:00<?, ?it/s]"
      ]
     },
     "metadata": {},
     "output_type": "display_data"
    },
    {
     "data": {
      "application/vnd.jupyter.widget-view+json": {
       "model_id": "72d48e0d420f40c8938d7b29705b0d87",
       "version_major": 2,
       "version_minor": 0
      },
      "text/plain": [
       "Iteration:   0%|          | 0/32 [00:00<?, ?it/s]"
      ]
     },
     "metadata": {},
     "output_type": "display_data"
    },
    {
     "data": {
      "application/vnd.jupyter.widget-view+json": {
       "model_id": "7868779559c04e19934e4876a1fa6de7",
       "version_major": 2,
       "version_minor": 0
      },
      "text/plain": [
       "Iteration:   0%|          | 0/32 [00:00<?, ?it/s]"
      ]
     },
     "metadata": {},
     "output_type": "display_data"
    },
    {
     "data": {
      "application/vnd.jupyter.widget-view+json": {
       "model_id": "8a142e65ed114a388eb393807b3e28b5",
       "version_major": 2,
       "version_minor": 0
      },
      "text/plain": [
       "Iteration:   0%|          | 0/32 [00:00<?, ?it/s]"
      ]
     },
     "metadata": {},
     "output_type": "display_data"
    },
    {
     "data": {
      "application/vnd.jupyter.widget-view+json": {
       "model_id": "f9a7c798a25040ea90bb0ec4e125d1f8",
       "version_major": 2,
       "version_minor": 0
      },
      "text/plain": [
       "Iteration:   0%|          | 0/32 [00:00<?, ?it/s]"
      ]
     },
     "metadata": {},
     "output_type": "display_data"
    },
    {
     "data": {
      "application/vnd.jupyter.widget-view+json": {
       "model_id": "1814f7e58b7944cda0fadcf4d587e9db",
       "version_major": 2,
       "version_minor": 0
      },
      "text/plain": [
       "Iteration:   0%|          | 0/32 [00:00<?, ?it/s]"
      ]
     },
     "metadata": {},
     "output_type": "display_data"
    },
    {
     "data": {
      "application/vnd.jupyter.widget-view+json": {
       "model_id": "54dddd8dbdf44d709e4931c4f2e571d1",
       "version_major": 2,
       "version_minor": 0
      },
      "text/plain": [
       "Iteration:   0%|          | 0/32 [00:00<?, ?it/s]"
      ]
     },
     "metadata": {},
     "output_type": "display_data"
    },
    {
     "data": {
      "application/vnd.jupyter.widget-view+json": {
       "model_id": "5881c7430cc84deebc61d6f0a66d291c",
       "version_major": 2,
       "version_minor": 0
      },
      "text/plain": [
       "Iteration:   0%|          | 0/32 [00:00<?, ?it/s]"
      ]
     },
     "metadata": {},
     "output_type": "display_data"
    },
    {
     "data": {
      "application/vnd.jupyter.widget-view+json": {
       "model_id": "71c7ef1e177a4ad2a7ea2ee3a44a582e",
       "version_major": 2,
       "version_minor": 0
      },
      "text/plain": [
       "Iteration:   0%|          | 0/32 [00:00<?, ?it/s]"
      ]
     },
     "metadata": {},
     "output_type": "display_data"
    },
    {
     "data": {
      "application/vnd.jupyter.widget-view+json": {
       "model_id": "0cd21cc9c5c8463c8299d703c4f7d748",
       "version_major": 2,
       "version_minor": 0
      },
      "text/plain": [
       "Iteration:   0%|          | 0/32 [00:00<?, ?it/s]"
      ]
     },
     "metadata": {},
     "output_type": "display_data"
    }
   ],
   "source": [
    "train_dataloader = DataLoader(train_examples, shuffle=True, batch_size=32)\n",
    "train_loss = losses.MultipleNegativesRankingLoss(custom_domain_model)\n",
    "\n",
    "custom_domain_model.fit(\n",
    "    train_objectives=[(train_dataloader, train_loss)],\n",
    "    epochs=10,\n",
    "    warmup_steps=100,\n",
    "    output_path='domain_adaptation_model',\n",
    "    show_progress_bar=True,\n",
    "    #evaluator=evaluator, \n",
    "    #evaluation_steps=50,\n",
    ")"
   ]
  },
  {
   "cell_type": "code",
   "execution_count": 77,
   "metadata": {},
   "outputs": [],
   "source": [
    "paper = \"Computational complexity versus statistical performance on sparse recovery problems\"\n",
    "author = \"Nicolas Boumal\""
   ]
  },
  {
   "cell_type": "code",
   "execution_count": 79,
   "metadata": {},
   "outputs": [
    {
     "data": {
      "text/plain": [
       "0.947363"
      ]
     },
     "execution_count": 79,
     "metadata": {},
     "output_type": "execute_result"
    }
   ],
   "source": [
    "custom_paper = custom_domain_model.encode(paper, normalize_embeddings=True)\n",
    "custom_author = custom_domain_model.encode(author, normalize_embeddings=True)\n",
    "\n",
    "np.dot(custom_paper, custom_author)"
   ]
  },
  {
   "cell_type": "code",
   "execution_count": 80,
   "metadata": {},
   "outputs": [
    {
     "data": {
      "text/plain": [
       "0.07937869"
      ]
     },
     "execution_count": 80,
     "metadata": {},
     "output_type": "execute_result"
    }
   ],
   "source": [
    "base_paper = base_model.encode(paper, normalize_embeddings=True)\n",
    "base_author = base_model.encode(author, normalize_embeddings=True)\n",
    "\n",
    "np.dot(base_paper, base_author)"
   ]
  }
 ],
 "metadata": {
  "kernelspec": {
   "display_name": "Python 3",
   "language": "python",
   "name": "python3"
  },
  "language_info": {
   "codemirror_mode": {
    "name": "ipython",
    "version": 3
   },
   "file_extension": ".py",
   "mimetype": "text/x-python",
   "name": "python",
   "nbconvert_exporter": "python",
   "pygments_lexer": "ipython3",
   "version": "3.10.12"
  }
 },
 "nbformat": 4,
 "nbformat_minor": 2
}
