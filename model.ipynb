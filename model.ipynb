{
 "cells": [
  {
   "cell_type": "code",
   "execution_count": 1,
   "metadata": {},
   "outputs": [],
   "source": [
    "from sentence_transformers import SentenceTransformer\n",
    "from sentence_transformers import losses\n",
    "import torch\n",
    "from torch import nn\n",
    "\n",
    "import pandas as pd"
   ]
  },
  {
   "cell_type": "code",
   "execution_count": 3,
   "metadata": {},
   "outputs": [],
   "source": [
    "sentence_model = SentenceTransformer(\"sentence-transformers/all-MiniLM-L12-v2\", \n",
    "                                     device='cuda')\n",
    "\n",
    "for param in sentence_model.parameters():\n",
    "    param.requires_grad = False\n",
    "    \n",
    "    \n",
    "# Definir un nuevo módulo para las capas adicionales\n",
    "class AdapterModule(nn.Module):\n",
    "    def __init__(self, input_dim, output_dim):\n",
    "        super(AdapterModule, self).__init__()\n",
    "        # Añade aquí más capas si necesitas\n",
    "        self.dense = nn.Linear(input_dim, 1024)  # Ejemplo de dimensión intermedia\n",
    "        self.output = nn.Linear(1024, output_dim)\n",
    "        self.activation = nn.ReLU()\n",
    "\n",
    "    def forward(self, x):\n",
    "        x = self.dense(x)\n",
    "        x = self.activation(x)\n",
    "        x = self.output(x)\n",
    "        return x\n",
    "\n",
    "\n",
    "class CustomDomainModel(nn.Module):\n",
    "    def __init__(self, sentence_transformer, adapter):\n",
    "        super(CustomDomainModel, self).__init__()\n",
    "        self.sentence_transformer = sentence_transformer\n",
    "        self.adapter = adapter\n",
    "\n",
    "    def forward(self, input_ids, attention_mask):\n",
    "        embeddings = self.sentence_transformer(input_ids, attention_mask=attention_mask)['sentence_embedding']\n",
    "        output = self.adapter(embeddings)\n",
    "        return output\n",
    "    \n",
    "    \n",
    "# Determinar la dimensión de entrada de acuerdo con la última capa del modelo base\n",
    "dim = sentence_model.get_sentence_embedding_dimension()\n",
    "\n",
    "# Instancia del módulo adaptador\n",
    "adapter = AdapterModule(dim, dim)\n",
    "\n",
    "# Crear el modelo completo\n",
    "custom_model = CustomDomainModel(sentence_model, adapter)"
   ]
  },
  {
   "cell_type": "code",
   "execution_count": null,
   "metadata": {},
   "outputs": [],
   "source": []
  },
  {
   "cell_type": "code",
   "execution_count": 4,
   "metadata": {},
   "outputs": [
    {
     "data": {
      "text/plain": [
       "384"
      ]
     },
     "execution_count": 4,
     "metadata": {},
     "output_type": "execute_result"
    }
   ],
   "source": [
    "loss = losses.MultipleNegativesRankingLoss(sentence_model)\n"
   ]
  },
  {
   "cell_type": "code",
   "execution_count": null,
   "metadata": {},
   "outputs": [],
   "source": [
    "\n",
    "\n",
    "\n",
    "# define evaluator\n",
    "#from sentence_transformers.evaluation import InformationRetrievalEvaluator\n",
    "# define over validation dataset\n",
    "\n",
    "#evaluator = InformationRetrievalEvaluator(queries, corpus, relevant_docs)\n"
   ]
  },
  {
   "cell_type": "code",
   "execution_count": 8,
   "metadata": {},
   "outputs": [],
   "source": [
    "data = pd.read_parquet(\"data/mlt_data_publications.parquet\")"
   ]
  },
  {
   "cell_type": "code",
   "execution_count": 26,
   "metadata": {},
   "outputs": [],
   "source": [
    "titles_map = {row.paperId:row.title for row in data.itertuples()}"
   ]
  },
  {
   "cell_type": "code",
   "execution_count": 29,
   "metadata": {},
   "outputs": [],
   "source": [
    "related_pubs = [(titles_map[row.paperId], 'relatedWith', titles_map[row.source]) \n",
    "                for row in data.itertuples() if row.con_type!='base']"
   ]
  },
  {
   "cell_type": "code",
   "execution_count": 36,
   "metadata": {},
   "outputs": [
    {
     "data": {
      "application/vnd.jupyter.widget-view+json": {
       "model_id": "bded128101ec43769e964c198a929ae8",
       "version_major": 2,
       "version_minor": 0
      },
      "text/plain": [
       "Batches:   0%|          | 0/412 [00:00<?, ?it/s]"
      ]
     },
     "metadata": {},
     "output_type": "display_data"
    }
   ],
   "source": [
    "titles_embs = sentence_model.encode(list(titles_map.values()), show_progress_bar=True)"
   ]
  },
  {
   "cell_type": "code",
   "execution_count": 39,
   "metadata": {},
   "outputs": [],
   "source": [
    "titles_emb_map = {paperId:emb for paperId, emb in zip(titles_map, titles_embs)}"
   ]
  },
  {
   "cell_type": "code",
   "execution_count": 41,
   "metadata": {},
   "outputs": [
    {
     "data": {
      "text/plain": [
       "(768,)"
      ]
     },
     "execution_count": 41,
     "metadata": {},
     "output_type": "execute_result"
    }
   ],
   "source": [
    "titles_embs[0].shape"
   ]
  },
  {
   "cell_type": "code",
   "execution_count": null,
   "metadata": {},
   "outputs": [],
   "source": [
    "embeddings = sentence_model.encode(df_reshaped['text_cln'].to_list(), show_progress_bar=True)"
   ]
  },
  {
   "cell_type": "code",
   "execution_count": null,
   "metadata": {},
   "outputs": [],
   "source": [
    "# Iniciar el modelo MLP secuencial.\n",
    "mlp_model = models.Sequential([\n",
    "    # Aplanar la imagen para convertirla de una matriz 2D a un vector 1D.\n",
    "    # El tamaño de entrada se ajusta al tamaño de las imágenes.\n",
    "\n",
    "    # Primera capa densa con 1024 unidades.\n",
    "    # BatchNormalization se utiliza para estabilizar el aprendizaje y se aplica antes de la activación.\n",
    "    layers.Dense(1024),\n",
    "    layers.BatchNormalization(),\n",
    "    layers.Activation('relu'),\n",
    "    layers.Dropout(0.05),  # Dropout para la regularización.\n",
    "\n",
    "    # Segunda capa densa con 512 unidades, con normalización y activación ReLU.\n",
    "    layers.Dense(512),\n",
    "    layers.BatchNormalization(),\n",
    "    layers.Activation('relu'),\n",
    "    layers.Dropout(0.10),  # Un poco más de Dropout para esta capa más profunda.\n",
    "\n",
    "    # Tercera capa densa con 256 unidades, y regularización L1 y L2 para evitar el sobreajuste.\n",
    "    layers.Dense(256, kernel_regularizer=regularizers.l1_l2(l1=0.001, l2=0.001)),\n",
    "    layers.BatchNormalization(),\n",
    "    layers.Activation('relu'),\n",
    "    layers.Dropout(0.15),\n",
    "\n",
    "    # Cuarta capa densa con 128 unidades, también con regularización y BatchNormalization.\n",
    "    layers.Dense(128, kernel_regularizer=regularizers.l1_l2(l1=0.01, l2=0.01)),\n",
    "    layers.BatchNormalization(),\n",
    "    layers.Activation('relu'),\n",
    "    layers.Dropout(0.20),\n",
    "\n",
    "    # Capa de salida con activación softmax para la clasificación multiclase.\n",
    "    layers.Dense(NUM_CLASSES, activation='softmax')\n",
    "])\n",
    "\n",
    "# Compilar el modelo especificando el optimizador y la función de pérdida.\n",
    "mlp_model.compile(optimizer='adam',\n",
    "                  loss='categorical_crossentropy',\n",
    "                  metrics=['categorical_accuracy'])\n",
    "\n",
    "# Callback para guardar el mejor modelo durante el entrenamiento, basado en la pérdida de validación.\n",
    "checkpoint_callback = callbacks.ModelCheckpoint(\n",
    "    filepath='models/mlp_best.keras',  # Guarda el modelo completo.\n",
    "    save_weights_only=False,\n",
    "    monitor='val_loss',\n",
    "    mode='min',\n",
    "    save_best_only=True)  # Solo guarda el modelo si es el mejor hasta el momento.\n",
    "\n",
    "# Entrenar el modelo utilizando un generador de datos y validación con un conjunto de datos separados.\n",
    "history_mlp = mlp_model.fit(\n",
    "    train_generator,\n",
    "    validation_data=(X_val_p, y_val_p),\n",
    "    epochs=100,  # Número de épocas para entrenar.\n",
    "    callbacks=[checkpoint_callback]  # Incluye el checkpoint para el guardado del modelo.\n",
    ")\n",
    "\n",
    "# Cargar el mejor modelo guardado después del entrenamiento.\n",
    "mlp_model = models.load_model('models/mlp_best.keras')"
   ]
  },
  {
   "cell_type": "code",
   "execution_count": 3,
   "metadata": {},
   "outputs": [
    {
     "ename": "NameError",
     "evalue": "name 'df_reshaped' is not defined",
     "output_type": "error",
     "traceback": [
      "\u001b[0;31m---------------------------------------------------------------------------\u001b[0m",
      "\u001b[0;31mNameError\u001b[0m                                 Traceback (most recent call last)",
      "Cell \u001b[0;32mIn[3], line 1\u001b[0m\n\u001b[0;32m----> 1\u001b[0m embeddings \u001b[38;5;241m=\u001b[39m sentence_model\u001b[38;5;241m.\u001b[39mencode(\u001b[43mdf_reshaped\u001b[49m[\u001b[38;5;124m'\u001b[39m\u001b[38;5;124mtext_cln\u001b[39m\u001b[38;5;124m'\u001b[39m]\u001b[38;5;241m.\u001b[39mto_list(), show_progress_bar\u001b[38;5;241m=\u001b[39m\u001b[38;5;28;01mTrue\u001b[39;00m)\n",
      "\u001b[0;31mNameError\u001b[0m: name 'df_reshaped' is not defined"
     ]
    }
   ],
   "source": []
  },
  {
   "cell_type": "code",
   "execution_count": null,
   "metadata": {},
   "outputs": [],
   "source": []
  }
 ],
 "metadata": {
  "kernelspec": {
   "display_name": "Python 3",
   "language": "python",
   "name": "python3"
  },
  "language_info": {
   "codemirror_mode": {
    "name": "ipython",
    "version": 3
   },
   "file_extension": ".py",
   "mimetype": "text/x-python",
   "name": "python",
   "nbconvert_exporter": "python",
   "pygments_lexer": "ipython3",
   "version": "3.10.12"
  }
 },
 "nbformat": 4,
 "nbformat_minor": 2
}
