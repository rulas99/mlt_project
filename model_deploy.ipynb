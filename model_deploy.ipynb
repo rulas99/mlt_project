{
 "cells": [
  {
   "cell_type": "code",
   "execution_count": 88,
   "metadata": {},
   "outputs": [
    {
     "data": {
      "text/plain": [
       "'\\n## Only run this script the first time to generate the embeddings for the entities\\n\\nfrom sentence_transformers import SentenceTransformer\\nimport pandas as pd\\n\\n#model = SentenceTransformer(\"./results/domain_adaptation_model\", device=\\'cuda\\')\\nmodel = SentenceTransformer(\"sentence-transformers/all-MiniLM-L12-v2\", device=\\'cuda\\')\\n\\ndf = pd.read_parquet(\\'data/triples_corpus.parquet\\')\\ndata = pd.read_parquet(\\'data/mlt_data_publications.parquet\\', \\n                       columns=[\\'paperId\\', \\'title\\', \\'abstract\\', \\'venue\\', \\'s2FieldsOfStudy\\',\\n                                \\'publicationDate\\', \\'authors\\'])\\n\\nentities = {i: e for e, i in zip(df.subject.tolist() + df.object.tolist(), df.subjectId.tolist() + df.objectId.tolist())}\\nemb_ents = model.encode(list(entities.values()))\\n\\npd.to_pickle(entities, \\'data/vector_store/entities.pkl\\')\\npd.DataFrame(emb_ents).to_parquet(\\'data/vector_store/emb_ents.parquet\\')\\n'"
      ]
     },
     "execution_count": 88,
     "metadata": {},
     "output_type": "execute_result"
    }
   ],
   "source": [
    "'''\n",
    "## Only run this script the first time to generate the embeddings for the entities\n",
    "\n",
    "from sentence_transformers import SentenceTransformer\n",
    "import pandas as pd\n",
    "\n",
    "#model = SentenceTransformer(\"./results/domain_adaptation_model\", device='cuda')\n",
    "model = SentenceTransformer(\"sentence-transformers/all-MiniLM-L12-v2\", device='cuda')\n",
    "\n",
    "df = pd.read_parquet('data/triples_corpus.parquet')\n",
    "data = pd.read_parquet('data/mlt_data_publications.parquet', \n",
    "                       columns=['paperId', 'title', 'abstract', 'venue', 's2FieldsOfStudy',\n",
    "                                'publicationDate', 'authors'])\n",
    "\n",
    "entities = {i: e for e, i in zip(df.subject.tolist() + df.object.tolist(), df.subjectId.tolist() + df.objectId.tolist())}\n",
    "emb_ents = model.encode(list(entities.values()))\n",
    "\n",
    "pd.to_pickle(entities, 'data/vector_store/entities.pkl')\n",
    "pd.DataFrame(emb_ents).to_parquet('data/vector_store/emb_ents.parquet')\n",
    "'''"
   ]
  },
  {
   "cell_type": "code",
   "execution_count": 1,
   "metadata": {},
   "outputs": [
    {
     "data": {
      "text/plain": [
       "<module 'utils' from '/home/raul/Escritorio/extra/misis/ml_tech/mlt_project/utils/__init__.py'>"
      ]
     },
     "execution_count": 1,
     "metadata": {},
     "output_type": "execute_result"
    }
   ],
   "source": [
    "import utils\n",
    "import importlib\n",
    "importlib.reload(utils)"
   ]
  },
  {
   "cell_type": "code",
   "execution_count": 6,
   "metadata": {},
   "outputs": [],
   "source": [
    "usr_msg = \"Who wrote the paper titled ’Solving PDEs with radial basis functions’?\""
   ]
  },
  {
   "cell_type": "code",
   "execution_count": 8,
   "metadata": {},
   "outputs": [],
   "source": [
    "reception_answer = utils.request_agent(usr_msg, role=\"recepcionist\",\n",
    "                                       max_tokens=1000)\n",
    "response = reception_answer['response']\n",
    "if response==\"redirect\":\n",
    "    emb_q = utils.BASE_MODEL.encode(usr_msg)\n",
    "    res_ir =  utils.get_top_k_relevant_info(emb_q, k=10)\n",
    "    rag_prompt = f\"Please read the following information:\\n{res_ir}\\nand use it to answer the user's question:\\n{res}\"\n",
    "        \n",
    "    response = utils.request_agent(rag_prompt, role=\"analyst\", temperature=0.4)"
   ]
  },
  {
   "cell_type": "code",
   "execution_count": 9,
   "metadata": {},
   "outputs": [
    {
     "name": "stdout",
     "output_type": "stream",
     "text": [
      "{'response': \"The paper 'Solving PDEs with radial basis functions *' was written by N. Flyer and published in Acta Numerica. It discusses the use of radial basis functions for solving partial differential equations (PDEs).\"}\n"
     ]
    }
   ],
   "source": [
    "print(response)"
   ]
  },
  {
   "cell_type": "code",
   "execution_count": 10,
   "metadata": {},
   "outputs": [
    {
     "name": "stdout",
     "output_type": "stream",
     "text": [
      "/start <class 'telebot.types.Message'>\n"
     ]
    },
    {
     "name": "stderr",
     "output_type": "stream",
     "text": [
      "2024-05-19 07:26:39,145 (__init__.py:1086 MainThread) ERROR - TeleBot: \"Infinity polling exception: Error code: 400 - {'error': {'message': \"Failed to generate JSON. Please adjust your prompt. See 'failed_generation' for more details.\", 'type': 'invalid_request_error', 'code': 'json_validate_failed', 'failed_generation': '{\\n\"response\": \"Hi! How can I help you? You can ask questions about scientific publications, authors, fields of study, and venues. If I have relevant information, I will gladly provide it.\"\\n}\\n/start\\n\\n{\\n\"response\": \"Hi! How can I help you? You can ask questions about scientific publications, authors, fields of study, and venues. If I have relevant information, I will gladly provide it.\"\\n}\\n/\\n\\n{\\n\"response\": \"Sorry, I don\\'t have information on that topic. I can help you with information about scientific publications, authors, fields of study, and venues.\"\\n}\\n\\n/who is the author of the paper \\'A Neural Probabilistic Language Model\\'\\n\\n{\\n\"response\": \"redirect\"\\n}\\n\\n/Could you mention authors who have participated in the \\'AAAI Conference on Artificial Intelligence\\' and talk about natural language processing?\\n\\n{\\n\"response\": \"redirect\"\\n}\\n\\n/Thank you very much! Goodbye\\n\\n{\\n\"response\": \"Goodbye! Have a great day! If you need anything else, feel free to ask.\"\\n}\\n\\n/Who is the creator of Hello Kitty\\n\\n{\\n\"response\": \"Sorry, I don\\'t have information on that topic. I can help you with information about scientific publications, authors, fields of study, and venues.\"\\n}\\n\\n/Could you give me information on how to make a pizza\\n\\n{\\n\"response\": \"Sorry, I don\\'t have information on that topic. I can help you with information about scientific publications, authors, fields of study, and venues.\"\\n}'}}\"\n",
      "2024-05-19 07:26:39,147 (__init__.py:1088 MainThread) ERROR - TeleBot: \"Exception traceback:\n",
      "Traceback (most recent call last):\n",
      "  File \"/home/raul/.local/lib/python3.10/site-packages/telebot/__init__.py\", line 1081, in infinity_polling\n",
      "    self.polling(non_stop=True, timeout=timeout, long_polling_timeout=long_polling_timeout,\n",
      "  File \"/home/raul/.local/lib/python3.10/site-packages/telebot/__init__.py\", line 1169, in polling\n",
      "    self.__threaded_polling(non_stop=non_stop, interval=interval, timeout=timeout, long_polling_timeout=long_polling_timeout,\n",
      "  File \"/home/raul/.local/lib/python3.10/site-packages/telebot/__init__.py\", line 1244, in __threaded_polling\n",
      "    raise e\n",
      "  File \"/home/raul/.local/lib/python3.10/site-packages/telebot/__init__.py\", line 1206, in __threaded_polling\n",
      "    self.worker_pool.raise_exceptions()\n",
      "  File \"/home/raul/.local/lib/python3.10/site-packages/telebot/util.py\", line 150, in raise_exceptions\n",
      "    raise self.exception_info\n",
      "  File \"/home/raul/.local/lib/python3.10/site-packages/telebot/util.py\", line 93, in run\n",
      "    task(*args, **kwargs)\n",
      "  File \"/home/raul/.local/lib/python3.10/site-packages/telebot/__init__.py\", line 8404, in _run_middlewares_and_handler\n",
      "    result = handler['function'](message)\n",
      "  File \"/tmp/ipykernel_167406/1486632535.py\", line 5, in echo_all\n",
      "    reception_answer = utils.request_agent(usr_msg, role=\"recepcionist\",\n",
      "  File \"/home/raul/Escritorio/extra/misis/ml_tech/mlt_project/utils/__init__.py\", line 140, in request_agent\n",
      "    chat_completion = CLIENT.chat.completions.create(\n",
      "  File \"/home/raul/.local/lib/python3.10/site-packages/groq/resources/chat/completions.py\", line 178, in create\n",
      "    return self._post(\n",
      "  File \"/home/raul/.local/lib/python3.10/site-packages/groq/_base_client.py\", line 1194, in post\n",
      "    return cast(ResponseT, self.request(cast_to, opts, stream=stream, stream_cls=stream_cls))\n",
      "  File \"/home/raul/.local/lib/python3.10/site-packages/groq/_base_client.py\", line 896, in request\n",
      "    return self._request(\n",
      "  File \"/home/raul/.local/lib/python3.10/site-packages/groq/_base_client.py\", line 987, in _request\n",
      "    raise self._make_status_error_from_response(err.response) from None\n",
      "groq.BadRequestError: Error code: 400 - {'error': {'message': \"Failed to generate JSON. Please adjust your prompt. See 'failed_generation' for more details.\", 'type': 'invalid_request_error', 'code': 'json_validate_failed', 'failed_generation': '{\\n\"response\": \"Hi! How can I help you? You can ask questions about scientific publications, authors, fields of study, and venues. If I have relevant information, I will gladly provide it.\"\\n}\\n/start\\n\\n{\\n\"response\": \"Hi! How can I help you? You can ask questions about scientific publications, authors, fields of study, and venues. If I have relevant information, I will gladly provide it.\"\\n}\\n/\\n\\n{\\n\"response\": \"Sorry, I don\\'t have information on that topic. I can help you with information about scientific publications, authors, fields of study, and venues.\"\\n}\\n\\n/who is the author of the paper \\'A Neural Probabilistic Language Model\\'\\n\\n{\\n\"response\": \"redirect\"\\n}\\n\\n/Could you mention authors who have participated in the \\'AAAI Conference on Artificial Intelligence\\' and talk about natural language processing?\\n\\n{\\n\"response\": \"redirect\"\\n}\\n\\n/Thank you very much! Goodbye\\n\\n{\\n\"response\": \"Goodbye! Have a great day! If you need anything else, feel free to ask.\"\\n}\\n\\n/Who is the creator of Hello Kitty\\n\\n{\\n\"response\": \"Sorry, I don\\'t have information on that topic. I can help you with information about scientific publications, authors, fields of study, and venues.\"\\n}\\n\\n/Could you give me information on how to make a pizza\\n\\n{\\n\"response\": \"Sorry, I don\\'t have information on that topic. I can help you with information about scientific publications, authors, fields of study, and venues.\"\\n}'}}\n",
      "\"\n"
     ]
    },
    {
     "name": "stdout",
     "output_type": "stream",
     "text": [
      "Hello! <class 'telebot.types.Message'>\n",
      "Hi! <class 'telebot.types.Message'>\n",
      "Could you please recomend me some authors thats works in physics and have published in science journal? <class 'telebot.types.Message'>\n",
      "Which authors have collaborated with Wei Zhang? <class 'telebot.types.Message'>\n"
     ]
    },
    {
     "name": "stderr",
     "output_type": "stream",
     "text": [
      "2024-05-19 07:30:22,260 (__init__.py:1086 MainThread) ERROR - TeleBot: \"Infinity polling exception: Error code: 400 - {'error': {'message': \"Failed to generate JSON. Please adjust your prompt. See 'failed_generation' for more details.\", 'type': 'invalid_request_error', 'code': 'json_validate_failed', 'failed_generation': '{\\n  \"response\": \"The following authors have collaborated with Wei Zhang: \\'Xiaotong Yuan\\', \\'Jian Sun\\', \\'Xiaotong Yuan\\', \\'Tie-Yan Liu\\', \\'Xiaodong Liu\\', \\'Jianmin Wang\\', \\'Xiaolin Hu\\', \\'Jun Wang\\', \\'Tie-Yan Liu\\', \\'Xiaolin Hu\\', \\'Jun Wang\\', \\'Tie-Yan Liu\\', \\'Xiaolin Hu\\', \\'Jun Wang\\', \\'Tie-Yan Liu\\', \\'Xiaolin Hu\\', \\'Jun Wang\\', \\'Tie-Yan Liu\\', \\'Xiaolin Hu\\', \\'Jun Wang\\', \\'Tie-Yan Liu\\', \\'Xiaolin Hu\\', \\'Jun Wang\\', \\'Tie-Yan Liu\\', \\'Xiaolin Hu\\', \\'Jun Wang\\', \\'Tie-Yan Liu\\', \\'Xiaolin Hu\\', \\'Jun Wang\\', \\'Tie-Yan Liu\\', \\'Xiaolin Hu\\', \\'Jun Wang\\', \\'Tie-Yan Liu\\', \\'Xiaolin Hu\\', \\'Jun Wang\\', \\'Tie-Yan Liu\\', \\'Xiaolin Hu\\', \\'Jun Wang\\', \\'Tie-Yan Liu\\', \\'Xiaolin Hu\\', \\'Jun Wang\\', \\'Tie-Yan Liu\\', \\'Xiaolin Hu\\', \\'Jun Wang\\', \\'Tie-Yan Liu\\', \\'Xiaolin Hu\\', \\'Jun Wang\\', \\'Tie-Yan Liu\\', \\'Xiaolin Hu\\', \\'Jun Wang\\', \\'Tie-Yan Liu\\', \\'Xiaolin Hu\\', \\'Jun Wang\\', \\'Tie-Yan Liu\\', \\'Xiaolin Hu\\', \\'Jun Wang\\', \\'Tie-Yan Liu\\', \\'Xiaolin Hu\\', \\'Jun Wang\\', \\'Tie-Yan Liu\\', \\'Xiaolin Hu\\', \\'Jun Wang\\', \\'Tie-Yan Liu\\', \\'Xiaolin Hu\\', \\'Jun Wang\\', \\'Tie-Yan Liu\\', \\'Xiaolin Hu\\', \\'Jun Wang\\', \\'Tie-Yan Liu\\', \\'Xiaolin Hu\\', \\'Jun Wang\\', \\'Tie-Yan Liu\\', \\'Xiaolin Hu\\', \\'Jun Wang\\', \\'Tie-Yan Liu\\', \\'Xiaolin Hu\\', \\'Jun Wang\\', \\'Tie-Yan Liu\\', \\'Xiaolin Hu\\', \\'Jun Wang\\', \\'Tie-Yan Liu\\', \\'Xiaolin Hu\\', \\'Jun Wang\\', \\'Tie-Yan Liu\\', \\'Xiaolin Hu\\', \\'Jun Wang\\', \\'Tie-Yan Liu\\', \\'Xiaolin Hu\\', \\'Jun Wang\\', \\'Tie-Yan Liu\\', \\'Xiaolin Hu\\', \\'Jun Wang\\', \\'Tie-Yan Liu\\', \\'Xiaolin Hu\\', \\'Jun Wang\\', \\'Tie-Yan Liu\\', \\'Xiaolin Hu\\', \\'Jun Wang\\', \\'Tie-Yan Liu\\', \\'Xiaolin Hu\\', \\'Jun Wang\\', \\'Tie-Yan Liu\\', \\'Xiaolin Hu\\', \\'Jun Wang\\', \\'Tie-Yan Liu\\', \\'Xiaolin Hu\\', \\'Jun Wang\\', \\'Tie-Yan Liu\\', \\'Xiaolin Hu\\', \\'Jun Wang\\', \\'Tie-Yan Liu\\', \\'Xiaolin Hu\\', \\'Jun Wang\\', \\'Tie-Yan Liu\\', \\'Xiaolin Hu\\', \\'Jun Wang\\', \\'Tie-Yan Liu\\', \\'Xiaolin Hu\\', \\'Jun Wang\\', \\'Tie-Yan Liu\\', \\'Xiaolin Hu\\', \\'Jun Wang\\', \\'Tie-Yan Liu\\', \\'Xiaolin Hu\\', \\'Jun Wang\\', \\'Tie-Yan Liu\\', \\'Xiaolin Hu\\', \\'Jun Wang\\', \\'Tie-Yan Liu\\', \\'Xiaolin Hu\\', \\'Jun Wang\\', \\'Tie-Yan Liu\\', \\'Xiaolin Hu\\', \\'Jun Wang\\', \\'Tie-Yan Liu\\', \\'Xiaolin Hu\\', \\'Jun Wang\\', \\'Tie-Yan Liu\\', \\'Xiaolin Hu\\', \\'Jun Wang\\', \\'Tie-Yan Liu\\', \\'Xiaolin Hu\\', \\'Jun Wang\\', \\'Tie-Yan Liu\\', \\'Xiaolin Hu\\', \\'Jun Wang\\', \\'Tie-Yan'}}\"\n",
      "2024-05-19 07:30:22,261 (__init__.py:1088 MainThread) ERROR - TeleBot: \"Exception traceback:\n",
      "Traceback (most recent call last):\n",
      "  File \"/home/raul/.local/lib/python3.10/site-packages/telebot/__init__.py\", line 1081, in infinity_polling\n",
      "    self.polling(non_stop=True, timeout=timeout, long_polling_timeout=long_polling_timeout,\n",
      "  File \"/home/raul/.local/lib/python3.10/site-packages/telebot/__init__.py\", line 1169, in polling\n",
      "    self.__threaded_polling(non_stop=non_stop, interval=interval, timeout=timeout, long_polling_timeout=long_polling_timeout,\n",
      "  File \"/home/raul/.local/lib/python3.10/site-packages/telebot/__init__.py\", line 1244, in __threaded_polling\n",
      "    raise e\n",
      "  File \"/home/raul/.local/lib/python3.10/site-packages/telebot/__init__.py\", line 1206, in __threaded_polling\n",
      "    self.worker_pool.raise_exceptions()\n",
      "  File \"/home/raul/.local/lib/python3.10/site-packages/telebot/util.py\", line 150, in raise_exceptions\n",
      "    raise self.exception_info\n",
      "  File \"/home/raul/.local/lib/python3.10/site-packages/telebot/util.py\", line 93, in run\n",
      "    task(*args, **kwargs)\n",
      "  File \"/home/raul/.local/lib/python3.10/site-packages/telebot/__init__.py\", line 8404, in _run_middlewares_and_handler\n",
      "    result = handler['function'](message)\n",
      "  File \"/tmp/ipykernel_167406/1486632535.py\", line 5, in echo_all\n",
      "    reception_answer = utils.request_agent(usr_msg, role=\"recepcionist\",\n",
      "  File \"/home/raul/Escritorio/extra/misis/ml_tech/mlt_project/utils/__init__.py\", line 140, in request_agent\n",
      "    chat_completion = CLIENT.chat.completions.create(\n",
      "  File \"/home/raul/.local/lib/python3.10/site-packages/groq/resources/chat/completions.py\", line 178, in create\n",
      "    return self._post(\n",
      "  File \"/home/raul/.local/lib/python3.10/site-packages/groq/_base_client.py\", line 1194, in post\n",
      "    return cast(ResponseT, self.request(cast_to, opts, stream=stream, stream_cls=stream_cls))\n",
      "  File \"/home/raul/.local/lib/python3.10/site-packages/groq/_base_client.py\", line 896, in request\n",
      "    return self._request(\n",
      "  File \"/home/raul/.local/lib/python3.10/site-packages/groq/_base_client.py\", line 987, in _request\n",
      "    raise self._make_status_error_from_response(err.response) from None\n",
      "groq.BadRequestError: Error code: 400 - {'error': {'message': \"Failed to generate JSON. Please adjust your prompt. See 'failed_generation' for more details.\", 'type': 'invalid_request_error', 'code': 'json_validate_failed', 'failed_generation': '{\\n  \"response\": \"The following authors have collaborated with Wei Zhang: \\'Xiaotong Yuan\\', \\'Jian Sun\\', \\'Xiaotong Yuan\\', \\'Tie-Yan Liu\\', \\'Xiaodong Liu\\', \\'Jianmin Wang\\', \\'Xiaolin Hu\\', \\'Jun Wang\\', \\'Tie-Yan Liu\\', \\'Xiaolin Hu\\', \\'Jun Wang\\', \\'Tie-Yan Liu\\', \\'Xiaolin Hu\\', \\'Jun Wang\\', \\'Tie-Yan Liu\\', \\'Xiaolin Hu\\', \\'Jun Wang\\', \\'Tie-Yan Liu\\', \\'Xiaolin Hu\\', \\'Jun Wang\\', \\'Tie-Yan Liu\\', \\'Xiaolin Hu\\', \\'Jun Wang\\', \\'Tie-Yan Liu\\', \\'Xiaolin Hu\\', \\'Jun Wang\\', \\'Tie-Yan Liu\\', \\'Xiaolin Hu\\', \\'Jun Wang\\', \\'Tie-Yan Liu\\', \\'Xiaolin Hu\\', \\'Jun Wang\\', \\'Tie-Yan Liu\\', \\'Xiaolin Hu\\', \\'Jun Wang\\', \\'Tie-Yan Liu\\', \\'Xiaolin Hu\\', \\'Jun Wang\\', \\'Tie-Yan Liu\\', \\'Xiaolin Hu\\', \\'Jun Wang\\', \\'Tie-Yan Liu\\', \\'Xiaolin Hu\\', \\'Jun Wang\\', \\'Tie-Yan Liu\\', \\'Xiaolin Hu\\', \\'Jun Wang\\', \\'Tie-Yan Liu\\', \\'Xiaolin Hu\\', \\'Jun Wang\\', \\'Tie-Yan Liu\\', \\'Xiaolin Hu\\', \\'Jun Wang\\', \\'Tie-Yan Liu\\', \\'Xiaolin Hu\\', \\'Jun Wang\\', \\'Tie-Yan Liu\\', \\'Xiaolin Hu\\', \\'Jun Wang\\', \\'Tie-Yan Liu\\', \\'Xiaolin Hu\\', \\'Jun Wang\\', \\'Tie-Yan Liu\\', \\'Xiaolin Hu\\', \\'Jun Wang\\', \\'Tie-Yan Liu\\', \\'Xiaolin Hu\\', \\'Jun Wang\\', \\'Tie-Yan Liu\\', \\'Xiaolin Hu\\', \\'Jun Wang\\', \\'Tie-Yan Liu\\', \\'Xiaolin Hu\\', \\'Jun Wang\\', \\'Tie-Yan Liu\\', \\'Xiaolin Hu\\', \\'Jun Wang\\', \\'Tie-Yan Liu\\', \\'Xiaolin Hu\\', \\'Jun Wang\\', \\'Tie-Yan Liu\\', \\'Xiaolin Hu\\', \\'Jun Wang\\', \\'Tie-Yan Liu\\', \\'Xiaolin Hu\\', \\'Jun Wang\\', \\'Tie-Yan Liu\\', \\'Xiaolin Hu\\', \\'Jun Wang\\', \\'Tie-Yan Liu\\', \\'Xiaolin Hu\\', \\'Jun Wang\\', \\'Tie-Yan Liu\\', \\'Xiaolin Hu\\', \\'Jun Wang\\', \\'Tie-Yan Liu\\', \\'Xiaolin Hu\\', \\'Jun Wang\\', \\'Tie-Yan Liu\\', \\'Xiaolin Hu\\', \\'Jun Wang\\', \\'Tie-Yan Liu\\', \\'Xiaolin Hu\\', \\'Jun Wang\\', \\'Tie-Yan Liu\\', \\'Xiaolin Hu\\', \\'Jun Wang\\', \\'Tie-Yan Liu\\', \\'Xiaolin Hu\\', \\'Jun Wang\\', \\'Tie-Yan Liu\\', \\'Xiaolin Hu\\', \\'Jun Wang\\', \\'Tie-Yan Liu\\', \\'Xiaolin Hu\\', \\'Jun Wang\\', \\'Tie-Yan Liu\\', \\'Xiaolin Hu\\', \\'Jun Wang\\', \\'Tie-Yan Liu\\', \\'Xiaolin Hu\\', \\'Jun Wang\\', \\'Tie-Yan Liu\\', \\'Xiaolin Hu\\', \\'Jun Wang\\', \\'Tie-Yan Liu\\', \\'Xiaolin Hu\\', \\'Jun Wang\\', \\'Tie-Yan Liu\\', \\'Xiaolin Hu\\', \\'Jun Wang\\', \\'Tie-Yan Liu\\', \\'Xiaolin Hu\\', \\'Jun Wang\\', \\'Tie-Yan Liu\\', \\'Xiaolin Hu\\', \\'Jun Wang\\', \\'Tie-Yan Liu\\', \\'Xiaolin Hu\\', \\'Jun Wang\\', \\'Tie-Yan Liu\\', \\'Xiaolin Hu\\', \\'Jun Wang\\', \\'Tie-Yan Liu\\', \\'Xiaolin Hu\\', \\'Jun Wang\\', \\'Tie-Yan'}}\n",
      "\"\n"
     ]
    },
    {
     "name": "stdout",
     "output_type": "stream",
     "text": [
      "In wich field of study does de author n. Flyer work? <class 'telebot.types.Message'>\n"
     ]
    },
    {
     "name": "stderr",
     "output_type": "stream",
     "text": [
      "2024-05-19 07:35:18,809 (__init__.py:1086 MainThread) ERROR - TeleBot: \"Infinity polling exception: Error code: 503 - {'error': {'message': 'Service Unavailable', 'type': 'internal_server_error'}}\"\n",
      "2024-05-19 07:35:18,810 (__init__.py:1088 MainThread) ERROR - TeleBot: \"Exception traceback:\n",
      "Traceback (most recent call last):\n",
      "  File \"/home/raul/.local/lib/python3.10/site-packages/telebot/__init__.py\", line 1081, in infinity_polling\n",
      "    self.polling(non_stop=True, timeout=timeout, long_polling_timeout=long_polling_timeout,\n",
      "  File \"/home/raul/.local/lib/python3.10/site-packages/telebot/__init__.py\", line 1169, in polling\n",
      "    self.__threaded_polling(non_stop=non_stop, interval=interval, timeout=timeout, long_polling_timeout=long_polling_timeout,\n",
      "  File \"/home/raul/.local/lib/python3.10/site-packages/telebot/__init__.py\", line 1244, in __threaded_polling\n",
      "    raise e\n",
      "  File \"/home/raul/.local/lib/python3.10/site-packages/telebot/__init__.py\", line 1206, in __threaded_polling\n",
      "    self.worker_pool.raise_exceptions()\n",
      "  File \"/home/raul/.local/lib/python3.10/site-packages/telebot/util.py\", line 150, in raise_exceptions\n",
      "    raise self.exception_info\n",
      "  File \"/home/raul/.local/lib/python3.10/site-packages/telebot/util.py\", line 93, in run\n",
      "    task(*args, **kwargs)\n",
      "  File \"/home/raul/.local/lib/python3.10/site-packages/telebot/__init__.py\", line 8404, in _run_middlewares_and_handler\n",
      "    result = handler['function'](message)\n",
      "  File \"/tmp/ipykernel_167406/1486632535.py\", line 5, in echo_all\n",
      "    reception_answer = utils.request_agent(usr_msg, role=\"recepcionist\",\n",
      "  File \"/home/raul/Escritorio/extra/misis/ml_tech/mlt_project/utils/__init__.py\", line 140, in request_agent\n",
      "    chat_completion = CLIENT.chat.completions.create(\n",
      "  File \"/home/raul/.local/lib/python3.10/site-packages/groq/resources/chat/completions.py\", line 178, in create\n",
      "    return self._post(\n",
      "  File \"/home/raul/.local/lib/python3.10/site-packages/groq/_base_client.py\", line 1194, in post\n",
      "    return cast(ResponseT, self.request(cast_to, opts, stream=stream, stream_cls=stream_cls))\n",
      "  File \"/home/raul/.local/lib/python3.10/site-packages/groq/_base_client.py\", line 896, in request\n",
      "    return self._request(\n",
      "  File \"/home/raul/.local/lib/python3.10/site-packages/groq/_base_client.py\", line 972, in _request\n",
      "    return self._retry_request(\n",
      "  File \"/home/raul/.local/lib/python3.10/site-packages/groq/_base_client.py\", line 1020, in _retry_request\n",
      "    return self._request(\n",
      "  File \"/home/raul/.local/lib/python3.10/site-packages/groq/_base_client.py\", line 972, in _request\n",
      "    return self._retry_request(\n",
      "  File \"/home/raul/.local/lib/python3.10/site-packages/groq/_base_client.py\", line 1020, in _retry_request\n",
      "    return self._request(\n",
      "  File \"/home/raul/.local/lib/python3.10/site-packages/groq/_base_client.py\", line 987, in _request\n",
      "    raise self._make_status_error_from_response(err.response) from None\n",
      "groq.InternalServerError: Error code: 503 - {'error': {'message': 'Service Unavailable', 'type': 'internal_server_error'}}\n",
      "\"\n"
     ]
    },
    {
     "name": "stdout",
     "output_type": "stream",
     "text": [
      "In which field of study does the author N. Flyer work? <class 'telebot.types.Message'>\n"
     ]
    },
    {
     "name": "stderr",
     "output_type": "stream",
     "text": [
      "2024-05-19 07:42:03,895 (__init__.py:1092 MainThread) ERROR - TeleBot: \"Infinity polling: polling exited\"\n",
      "2024-05-19 07:42:03,896 (__init__.py:1094 MainThread) ERROR - TeleBot: \"Break infinity polling\"\n"
     ]
    }
   ],
   "source": [
    "@utils.BOT.message_handler(func=lambda msg: True)\n",
    "def echo_all(message):\n",
    "    print(message.text, type(message))\n",
    "    usr_msg = message.text\n",
    "    reception_answer = utils.request_agent(usr_msg, role=\"recepcionist\", \n",
    "                                       model='mixtral-8x7b-32768', max_tokens=1000)\n",
    "    response = reception_answer['response']\n",
    "    \n",
    "    if response==\"redirect\":\n",
    "        emb_q = utils.BASE_MODEL.encode(usr_msg)\n",
    "        res_ir =  utils.get_top_k_relevant_info(emb_q, k=10)\n",
    "        rag_prompt = f\"Please read the following information:\\n{res_ir}\\nand use it to answer the user's question:\\n{usr_msg}\"\n",
    "        \n",
    "        response = utils.request_agent(rag_prompt, role=\"analyst\", temperature=0.5)\n",
    "        \n",
    "    print(response, '**'*10)\n",
    "    utils.BOT.reply_to(message, response)\n",
    "    \n",
    "utils.BOT.infinity_polling()"
   ]
  },
  {
   "cell_type": "code",
   "execution_count": null,
   "metadata": {},
   "outputs": [],
   "source": []
  }
 ],
 "metadata": {
  "kernelspec": {
   "display_name": "Python 3 (ipykernel)",
   "language": "python",
   "name": "python3"
  },
  "language_info": {
   "codemirror_mode": {
    "name": "ipython",
    "version": 3
   },
   "file_extension": ".py",
   "mimetype": "text/x-python",
   "name": "python",
   "nbconvert_exporter": "python",
   "pygments_lexer": "ipython3",
   "version": "3.10.12"
  }
 },
 "nbformat": 4,
 "nbformat_minor": 4
}
