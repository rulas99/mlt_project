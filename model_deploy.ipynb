{
 "cells": [
  {
   "cell_type": "code",
   "execution_count": 9,
   "metadata": {},
   "outputs": [],
   "source": [
    "from sentence_transformers import SentenceTransformer\n",
    "\n",
    "model = SentenceTransformer(\"sentence-transformers/all-MiniLM-L12-v2\")"
   ]
  },
  {
   "cell_type": "code",
   "execution_count": 10,
   "metadata": {},
   "outputs": [],
   "source": [
    "from dotenv import load_dotenv\n",
    "from os import environ as os_environ\n",
    "\n",
    "from json import loads as json_loads\n",
    "\n",
    "from groq import Groq\n",
    "\n",
    "import telebot\n",
    "\n",
    "load_dotenv()\n",
    "\n",
    "BOT_TOKEN = os_environ.get('BOT_TOKEN')\n",
    "GROQ_API_KEY = os_environ.get(\"GROQ_API_KEY\")\n",
    "\n",
    "BOT = telebot.TeleBot(BOT_TOKEN)\n",
    "CLIENT = Groq( api_key=GROQ_API_KEY )\n"
   ]
  },
  {
   "cell_type": "code",
   "execution_count": 11,
   "metadata": {},
   "outputs": [],
   "source": []
  },
  {
   "cell_type": "code",
   "execution_count": null,
   "metadata": {},
   "outputs": [],
   "source": [
    "def request_recepcionist(user_request, system_addition = '', user_addition = ''):\n",
    "    chat_completion = CLIENT.chat.completions.create(\n",
    "        messages=[\n",
    "            {\n",
    "            \"content\": f\"{personalities.roles['recepcionist']} {system_addition}\",\n",
    "            \"role\":\"system\"\n",
    "            },\n",
    "            {\n",
    "                \"role\": \"user\",\n",
    "                \"content\": f\"{user_request} {user_addition}\",\n",
    "            }\n",
    "        ],\n",
    "        temperature=0.2,\n",
    "        top_p=0.2,\n",
    "        max_tokens=1000,\n",
    "        response_format={\"type\": \"json_object\"},\n",
    "        model=\"mixtral-8x7b-32768\",\n",
    "    )\n",
    "    \n",
    "    try:\n",
    "        response = chat_completion.choices[0].message.content\n",
    "        response_json = json_loads(response)\n",
    "    except Exception as e:\n",
    "        print(e)\n",
    "        response_json = {'message':user_request, 'answer':'no_aplica'}\n",
    "        \n",
    "    return response_json\n"
   ]
  },
  {
   "cell_type": "code",
   "execution_count": null,
   "metadata": {},
   "outputs": [],
   "source": [
    "@BOT.message_handler(commands=['start', 'hello'])\n",
    "def send_welcome(message):\n",
    "    print('holaaa!')\n",
    "    BOT.reply_to(message, \"Howdy, how are you doing?\")\n",
    "    \n",
    "    \n",
    "@BOT.message_handler(commands=['wtf'])\n",
    "def send_welcome(message):\n",
    "    BOT.reply_to(message, \"No enteidno cpomo funcionas extooo\")\n",
    "    \n",
    "    \n",
    "\n",
    "@BOT.message_handler(func=lambda msg: True)\n",
    "def echo_all(message):\n",
    "    print(message.text, type(message))\n",
    "    txt = message.text\n",
    "    if 'help' in txt:\n",
    "        BOT.reply_to(message, 'kk')\n",
    "    else:\n",
    "        BOT.reply_to(message, message.text)"
   ]
  },
  {
   "cell_type": "code",
   "execution_count": null,
   "metadata": {},
   "outputs": [],
   "source": [
    "BOT.infinity_polling()"
   ]
  }
 ],
 "metadata": {
  "kernelspec": {
   "display_name": "Python 3",
   "language": "python",
   "name": "python3"
  },
  "language_info": {
   "codemirror_mode": {
    "name": "ipython",
    "version": 3
   },
   "file_extension": ".py",
   "mimetype": "text/x-python",
   "name": "python",
   "nbconvert_exporter": "python",
   "pygments_lexer": "ipython3",
   "version": "3.10.12"
  }
 },
 "nbformat": 4,
 "nbformat_minor": 2
}
