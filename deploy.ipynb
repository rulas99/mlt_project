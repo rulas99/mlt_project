{
 "cells": [
  {
   "cell_type": "code",
   "execution_count": null,
   "id": "c695be96-a776-454b-bc3b-54358026ad4f",
   "metadata": {},
   "outputs": [],
   "source": [
    "import torch\n",
    "import torch_tensorrt"
   ]
  },
  {
   "cell_type": "code",
   "execution_count": null,
   "id": "5d1bdb28-9da1-4a27-a1e4-5081b5ea8668",
   "metadata": {},
   "outputs": [],
   "source": [
    "device = torch.device(\"cuda\" if torch.cuda.is_available() else \"cpu\")"
   ]
  },
  {
   "cell_type": "code",
   "execution_count": null,
   "id": "65960833-fb45-4127-9754-59b711896e99",
   "metadata": {},
   "outputs": [],
   "source": [
    "torch.hub._validate_not_a_forked_repo=lambda a,b,c: True\n",
    "\n",
    "# load the model\n",
    "model = torch.load('results/domain_adaptation_model').eval().to(device)\n",
    "\n",
    "# Compile with Torch TensorRT;\n",
    "trt_model = torch_tensorrt.compile(model,\n",
    "    inputs= [torch_tensorrt.Input((1, 3, 224, 224))],\n",
    "    enabled_precisions= { torch.half} # Run with FP32\n",
    ")\n",
    "\n",
    "# Save the model\n",
    "torch.jit.save(trt_model, \"model.pt\")"
   ]
  }
 ],
 "metadata": {
  "kernelspec": {
   "display_name": "Python 3 (ipykernel)",
   "language": "python",
   "name": "python3"
  },
  "language_info": {
   "codemirror_mode": {
    "name": "ipython",
    "version": 3
   },
   "file_extension": ".py",
   "mimetype": "text/x-python",
   "name": "python",
   "nbconvert_exporter": "python",
   "pygments_lexer": "ipython3",
   "version": "3.10.12"
  }
 },
 "nbformat": 4,
 "nbformat_minor": 5
}
