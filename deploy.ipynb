{
 "cells": [
  {
   "cell_type": "code",
   "execution_count": 7,
   "id": "c695be96-a776-454b-bc3b-54358026ad4f",
   "metadata": {},
   "outputs": [],
   "source": [
    "import torch\n",
    "from sentence_transformers import SentenceTransformer\n",
    "from converter import sentence_transformers_onnx"
   ]
  },
  {
   "cell_type": "code",
   "execution_count": 8,
   "id": "5d1bdb28-9da1-4a27-a1e4-5081b5ea8668",
   "metadata": {},
   "outputs": [],
   "source": [
    "device = torch.device(\"cuda\" if torch.cuda.is_available() else \"cpu\")"
   ]
  },
  {
   "cell_type": "code",
   "execution_count": 9,
   "id": "65960833-fb45-4127-9754-59b711896e99",
   "metadata": {},
   "outputs": [],
   "source": [
    "# load the model\n",
    "model = SentenceTransformer.load('./results/domain_adaptation_model/')"
   ]
  },
  {
   "cell_type": "code",
   "execution_count": 10,
   "id": "68730452-7c8e-47a8-adb6-04db8ec722aa",
   "metadata": {},
   "outputs": [],
   "source": [
    "onnx_model = sentence_transformers_onnx(\n",
    "    model,\n",
    "    path = \"triton/model_repository/domain_adaptation_model/1/model\"\n",
    ")\n",
    "onnx_model"
   ]
  },
  {
   "cell_type": "code",
   "execution_count": 19,
   "id": "0722b13c-cf77-45b6-947c-32c1d36ace91",
   "metadata": {},
   "outputs": [
    {
     "ename": "InferenceServerException",
     "evalue": "[404] Not Found",
     "output_type": "error",
     "traceback": [
      "\u001b[0;31m---------------------------------------------------------------------------\u001b[0m",
      "\u001b[0;31mInferenceServerException\u001b[0m                  Traceback (most recent call last)",
      "Cell \u001b[0;32mIn[19], line 16\u001b[0m\n\u001b[1;32m     13\u001b[0m outputs \u001b[38;5;241m=\u001b[39m httpclient\u001b[38;5;241m.\u001b[39mInferRequestedOutput(\u001b[38;5;124m\"\u001b[39m\u001b[38;5;124moutput__0\u001b[39m\u001b[38;5;124m\"\u001b[39m, binary_data\u001b[38;5;241m=\u001b[39m\u001b[38;5;28;01mTrue\u001b[39;00m, class_count\u001b[38;5;241m=\u001b[39m\u001b[38;5;241m1000\u001b[39m)\n\u001b[1;32m     15\u001b[0m \u001b[38;5;66;03m# Querying the server\u001b[39;00m\n\u001b[0;32m---> 16\u001b[0m results \u001b[38;5;241m=\u001b[39m \u001b[43mclient\u001b[49m\u001b[38;5;241;43m.\u001b[39;49m\u001b[43minfer\u001b[49m\u001b[43m(\u001b[49m\u001b[43mmodel_name\u001b[49m\u001b[38;5;241;43m=\u001b[39;49m\u001b[38;5;124;43m\"\u001b[39;49m\u001b[38;5;124;43m./results/domain_adaptation_model/\u001b[39;49m\u001b[38;5;124;43m\"\u001b[39;49m\u001b[43m,\u001b[49m\u001b[43m \u001b[49m\u001b[43minputs\u001b[49m\u001b[38;5;241;43m=\u001b[39;49m\u001b[43m[\u001b[49m\u001b[43minputs\u001b[49m\u001b[43m]\u001b[49m\u001b[43m,\u001b[49m\u001b[43m \u001b[49m\u001b[43moutputs\u001b[49m\u001b[38;5;241;43m=\u001b[39;49m\u001b[43m[\u001b[49m\u001b[43moutputs\u001b[49m\u001b[43m]\u001b[49m\u001b[43m)\u001b[49m\n\u001b[1;32m     17\u001b[0m inference_output \u001b[38;5;241m=\u001b[39m results\u001b[38;5;241m.\u001b[39mas_numpy(\u001b[38;5;124m'\u001b[39m\u001b[38;5;124mstart\u001b[39m\u001b[38;5;124m'\u001b[39m)\n\u001b[1;32m     18\u001b[0m \u001b[38;5;28mprint\u001b[39m(inference_output[:\u001b[38;5;241m5\u001b[39m])\n",
      "File \u001b[0;32m~/venv/lib/python3.10/site-packages/tritonclient/http/_client.py:1482\u001b[0m, in \u001b[0;36mInferenceServerClient.infer\u001b[0;34m(self, model_name, inputs, model_version, outputs, request_id, sequence_id, sequence_start, sequence_end, priority, timeout, headers, query_params, request_compression_algorithm, response_compression_algorithm, parameters)\u001b[0m\n\u001b[1;32m   1474\u001b[0m     request_uri \u001b[38;5;241m=\u001b[39m \u001b[38;5;124m\"\u001b[39m\u001b[38;5;124mv2/models/\u001b[39m\u001b[38;5;132;01m{}\u001b[39;00m\u001b[38;5;124m/infer\u001b[39m\u001b[38;5;124m\"\u001b[39m\u001b[38;5;241m.\u001b[39mformat(quote(model_name))\n\u001b[1;32m   1476\u001b[0m response \u001b[38;5;241m=\u001b[39m \u001b[38;5;28mself\u001b[39m\u001b[38;5;241m.\u001b[39m_post(\n\u001b[1;32m   1477\u001b[0m     request_uri\u001b[38;5;241m=\u001b[39mrequest_uri,\n\u001b[1;32m   1478\u001b[0m     request_body\u001b[38;5;241m=\u001b[39mrequest_body,\n\u001b[1;32m   1479\u001b[0m     headers\u001b[38;5;241m=\u001b[39mheaders,\n\u001b[1;32m   1480\u001b[0m     query_params\u001b[38;5;241m=\u001b[39mquery_params,\n\u001b[1;32m   1481\u001b[0m )\n\u001b[0;32m-> 1482\u001b[0m \u001b[43m_raise_if_error\u001b[49m\u001b[43m(\u001b[49m\u001b[43mresponse\u001b[49m\u001b[43m)\u001b[49m\n\u001b[1;32m   1484\u001b[0m \u001b[38;5;28;01mreturn\u001b[39;00m InferResult(response, \u001b[38;5;28mself\u001b[39m\u001b[38;5;241m.\u001b[39m_verbose)\n",
      "File \u001b[0;32m~/venv/lib/python3.10/site-packages/tritonclient/http/_utils.py:69\u001b[0m, in \u001b[0;36m_raise_if_error\u001b[0;34m(response)\u001b[0m\n\u001b[1;32m     67\u001b[0m error \u001b[38;5;241m=\u001b[39m _get_error(response)\n\u001b[1;32m     68\u001b[0m \u001b[38;5;28;01mif\u001b[39;00m error \u001b[38;5;129;01mis\u001b[39;00m \u001b[38;5;129;01mnot\u001b[39;00m \u001b[38;5;28;01mNone\u001b[39;00m:\n\u001b[0;32m---> 69\u001b[0m     \u001b[38;5;28;01mraise\u001b[39;00m error\n",
      "\u001b[0;31mInferenceServerException\u001b[0m: [404] Not Found"
     ]
    }
   ],
   "source": [
    "import numpy as np\n",
    "from torchvision import transforms\n",
    "from PIL import Image\n",
    "import tritonclient.http as httpclient\n",
    "from tritonclient.utils import triton_to_np_dtype\n",
    "\n",
    "# Setting up client\n",
    "client = httpclient.InferenceServerClient(url=\"localhost:8000\")\n",
    "\n",
    "inputs = httpclient.InferInput(\"input__0\", (3,), datatype=\"FP32\")\n",
    "inputs.set_data_from_numpy(np.array([1,2,3], dtype='float32'), binary_data=True)\n",
    "\n",
    "outputs = httpclient.InferRequestedOutput(\"output__0\", binary_data=True, class_count=1000)\n",
    "\n",
    "# Querying the server\n",
    "results = client.infer(model_name=\"./results/domain_adaptation_model/\", inputs=[inputs], outputs=[outputs])\n",
    "inference_output = results.as_numpy('start')\n",
    "print(inference_output[:5])"
   ]
  },
  {
   "cell_type": "code",
   "execution_count": null,
   "id": "4230b5c0-e6b8-4e2a-a137-5c455f5c0136",
   "metadata": {},
   "outputs": [],
   "source": []
  }
 ],
 "metadata": {
  "kernelspec": {
   "display_name": "Python 3 (ipykernel)",
   "language": "python",
   "name": "python3"
  },
  "language_info": {
   "codemirror_mode": {
    "name": "ipython",
    "version": 3
   },
   "file_extension": ".py",
   "mimetype": "text/x-python",
   "name": "python",
   "nbconvert_exporter": "python",
   "pygments_lexer": "ipython3",
   "version": "3.10.12"
  }
 },
 "nbformat": 4,
 "nbformat_minor": 5
}
