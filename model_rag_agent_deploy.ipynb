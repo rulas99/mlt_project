{
 "cells": [
  {
   "cell_type": "code",
   "execution_count": 1,
   "metadata": {},
   "outputs": [
    {
     "data": {
      "text/plain": [
       "'\\n## Only run this script the first time to generate the embeddings for the entities\\n\\nfrom sentence_transformers import SentenceTransformer\\nimport pandas as pd\\n\\nmodel = SentenceTransformer(\"./results/domain_adaptation_model\", device=\\'cuda\\')\\n#model = SentenceTransformer(\"sentence-transformers/all-MiniLM-L12-v2\", device=\\'cuda\\')\\n\\ndf = pd.read_parquet(\\'data/triples_corpus.parquet\\')\\ndata = pd.read_parquet(\\'data/mlt_data_publications.parquet\\', \\n                       columns=[\\'paperId\\', \\'title\\', \\'abstract\\', \\'venue\\', \\'s2FieldsOfStudy\\',\\n                                \\'publicationDate\\', \\'authors\\'])\\n\\nentities = {i: e for e, i in zip(df.subject.tolist() + df.object.tolist(), df.subjectId.tolist() + df.objectId.tolist())}\\nemb_ents = model.encode(list(entities.values()))\\n\\npd.to_pickle(entities, \\'data/vector_store/entities.pkl\\')\\npd.DataFrame(emb_ents).to_parquet(\\'data/vector_store/emb_ents.parquet\\')\\n'"
      ]
     },
     "execution_count": 1,
     "metadata": {},
     "output_type": "execute_result"
    }
   ],
   "source": [
    "\"\"\"\n",
    "## Only run this script the first time to generate the embeddings for the entities\n",
    "\n",
    "from sentence_transformers import SentenceTransformer\n",
    "import pandas as pd\n",
    "\n",
    "model = SentenceTransformer(\"./results/domain_adaptation_model\", device='cuda')\n",
    "#model = SentenceTransformer(\"sentence-transformers/all-MiniLM-L12-v2\", device='cuda')\n",
    "\n",
    "df = pd.read_parquet('data/triples_corpus.parquet')\n",
    "data = pd.read_parquet('data/mlt_data_publications.parquet', \n",
    "                       columns=['paperId', 'title', 'abstract', 'venue', 's2FieldsOfStudy',\n",
    "                                'publicationDate', 'authors'])\n",
    "\n",
    "entities = {i: e for e, i in zip(df.subject.tolist() + df.object.tolist(), df.subjectId.tolist() + df.objectId.tolist())}\n",
    "emb_ents = model.encode(list(entities.values()))\n",
    "\n",
    "pd.to_pickle(entities, 'data/vector_store/entities.pkl')\n",
    "pd.DataFrame(emb_ents).to_parquet('data/vector_store/emb_ents.parquet')\n",
    "\"\"\""
   ]
  },
  {
   "cell_type": "code",
   "execution_count": 1,
   "metadata": {},
   "outputs": [
    {
     "data": {
      "text/plain": [
       "<module 'utils' from '/home/raul/Escritorio/extra/misis/ml_tech/mlt_project/utils/__init__.py'>"
      ]
     },
     "execution_count": 1,
     "metadata": {},
     "output_type": "execute_result"
    }
   ],
   "source": [
    "import utils\n",
    "import importlib\n",
    "importlib.reload(utils)"
   ]
  },
  {
   "cell_type": "markdown",
   "metadata": {},
   "source": [
    "## Ejemplo RAG:"
   ]
  },
  {
   "cell_type": "code",
   "execution_count": 2,
   "metadata": {},
   "outputs": [
    {
     "name": "stdout",
     "output_type": "stream",
     "text": [
      "**** retrieved ids ****\n",
      " ['ac9748ea3945eb970cc32a37db7cfdfd0f22e74c', '7b8985fb105bd863501bb366f48fc55bbd935424', '0721c8eb12ea00b7c3769a5e40592b65d8e7a71b', '523c82c922f761deccd85f95d95b8a4bb34bef5f', 'ab657a056195325116f056cbfdca48a483453e3d', 'a2c3fd9a7d0813a88cbed195b08b0fe30d790aa7', 'ab27aad2ee38379825be9bff95e6a1f9f9981e1c', '3eaa82bffade4787ec1d20a86a5cd51afcdbfef8', '39524eeeeed96be8a2970caf0fa2673c9b4314b9', 'd607b773d2719a5948bab0c16500e4f00fd61df8']\n",
      "\n",
      "**** Augmented response ****\n",
      "The papers that were published in the venue 'IEEE Transactions on Medical Imaging' are:\n",
      "- 'Ridge-based vessel segmentation in color images of the retina'\n",
      "- 'Model-based quantitation of 3-D magnetic resonance angiographic images'\n",
      "- 'Segmenting Retinal Blood Vessels With Deep Neural Networks'\n",
      "- 'Geometrically correct 3-D reconstruction of intravascular ultrasound images by fusion with biplane angiography-methods and validation'\n",
      "- 'Unsupervised Multiresolution Segmentation for Images with Low Depth of Field'\n"
     ]
    }
   ],
   "source": [
    "usr_msg = \"Which papers were published in the venue ’IEEE Transactions on Medical Imaging’?\"\n",
    "\n",
    "reception_answer = utils.request_agent(usr_msg, role=\"recepcionist\",\n",
    "                                       max_tokens=1000)\n",
    "response = reception_answer['response']\n",
    "if response==\"redirect\":\n",
    "    emb_q = utils.CUSTOM_MODEL.encode(usr_msg)\n",
    "    res_ir =  utils.get_top_k_relevant_info(emb_q, k=10)\n",
    "    rag_prompt = f\"Please read the following information:\\n{res_ir}\\nand use it to answer the user's question:\\n{usr_msg}\"\n",
    "        \n",
    "    response = utils.request_agent(rag_prompt, role=\"analyst\", \n",
    "                                   temperature=0.3, response_format=\"text\")\n",
    "\n",
    "print()\n",
    "print('**** Augmented response ****')\n",
    "print(response['response'])"
   ]
  },
  {
   "cell_type": "markdown",
   "metadata": {},
   "source": [
    "## Implementación del Agente RAG en un Bot de Telegram"
   ]
  },
  {
   "cell_type": "code",
   "execution_count": 2,
   "metadata": {},
   "outputs": [
    {
     "name": "stdout",
     "output_type": "stream",
     "text": [
      " ***** User msg:  in which fields of study does the author T. Feder work?  *****\n",
      "***** Looking for relevant information... *****\n",
      "**** retrieved ids ****\n",
      " ['72c3d786-cb17-3a13-9011-12dffc9f2357', '46765511-b961-3ff6-a23d-3ea8b6b2c950', 'fb9a4f64-7033-3b5e-a0a7-138defe2fc16', '173845e3-ff41-322f-b212-f6aa3f8cc104', 'ae9016bb-b759-36de-a691-0664de814539', 'f9a62c7a-27f1-3112-a2fa-1b057699dac6', '746ae1c2-f83c-34ec-8c49-eb14866a789a', '2024d957-f94b-35ee-b518-8e3e1bf7548b', '6d0d69d3-f24c-35d9-a301-356007c3ce28', 'a9c20f66-2028-3d81-a5c8-f42740f808f9', '54b1834c-8853-358a-83c2-b959e3d18092', 'e1b1b884-bd6d-3664-9040-f02258e28ce0', 'ccc06765f3490651a7eaaa964e9dded9508bd8be', '4bdbd65f-66c3-3866-bd8f-bc4b8f4c43ae', '66118079-6c93-39ea-b32a-e049be45b81b']\n",
      " ***** Agent msg:  The author T. Feder works in the field of Mathematics.  *****\n",
      " ***** User msg:  Which author has co authored with  R Mathies?  *****\n",
      "***** Looking for relevant information... *****\n",
      "**** retrieved ids ****\n",
      " ['3309273', '2247542995', '2242086382', '2719613', '100889387', '1796517', '39930149', '2258825718', '1900627', '144992750', '122896108', '1738795', '1737060', '2275007744', '47602396']\n",
      " ***** Agent msg:  The author who has co-authored with R Mathies is Winkler S. This information is derived from the triple where the subject is 'R Mathies', the property is 'collaborates with', and the object is 'Winkler S.'.  *****\n",
      " ***** User msg:  Which author has co authored with Lavarone A?  *****\n",
      "***** Looking for relevant information... *****\n",
      "**** retrieved ids ****\n",
      " ['4871320', '2241626633', '3975607', '145594351', '6016553', '2076499', '2476651', '3099279', '2529175', '7404733', '2911142', '2082582426', '3266708', '46676242', '1705871']\n",
      " ***** Agent msg:  I cannot find a direct relationship between any author and Lavarone A in the provided data.  *****\n"
     ]
    },
    {
     "name": "stderr",
     "output_type": "stream",
     "text": [
      "2024-05-25 11:07:58,068 (__init__.py:1086 MainThread) ERROR - TeleBot: \"Infinity polling exception: HTTPSConnectionPool(host='api.telegram.org', port=443): Read timed out. (read timeout=25)\"\n",
      "2024-05-25 11:07:58,069 (__init__.py:1088 MainThread) ERROR - TeleBot: \"Exception traceback:\n",
      "Traceback (most recent call last):\n",
      "  File \"/home/raul/.local/lib/python3.10/site-packages/urllib3/connectionpool.py\", line 537, in _make_request\n",
      "    response = conn.getresponse()\n",
      "  File \"/home/raul/.local/lib/python3.10/site-packages/urllib3/connection.py\", line 466, in getresponse\n",
      "    httplib_response = super().getresponse()\n",
      "  File \"/usr/lib/python3.10/http/client.py\", line 1375, in getresponse\n",
      "    response.begin()\n",
      "  File \"/usr/lib/python3.10/http/client.py\", line 318, in begin\n",
      "    version, status, reason = self._read_status()\n",
      "  File \"/usr/lib/python3.10/http/client.py\", line 279, in _read_status\n",
      "    line = str(self.fp.readline(_MAXLINE + 1), \"iso-8859-1\")\n",
      "  File \"/usr/lib/python3.10/socket.py\", line 705, in readinto\n",
      "    return self._sock.recv_into(b)\n",
      "  File \"/usr/lib/python3.10/ssl.py\", line 1303, in recv_into\n",
      "    return self.read(nbytes, buffer)\n",
      "  File \"/usr/lib/python3.10/ssl.py\", line 1159, in read\n",
      "    return self._sslobj.read(len, buffer)\n",
      "TimeoutError: The read operation timed out\n",
      "\n",
      "The above exception was the direct cause of the following exception:\n",
      "\n",
      "Traceback (most recent call last):\n",
      "  File \"/home/raul/.local/lib/python3.10/site-packages/requests/adapters.py\", line 486, in send\n",
      "    resp = conn.urlopen(\n",
      "  File \"/home/raul/.local/lib/python3.10/site-packages/urllib3/connectionpool.py\", line 847, in urlopen\n",
      "    retries = retries.increment(\n",
      "  File \"/home/raul/.local/lib/python3.10/site-packages/urllib3/util/retry.py\", line 470, in increment\n",
      "    raise reraise(type(error), error, _stacktrace)\n",
      "  File \"/home/raul/.local/lib/python3.10/site-packages/urllib3/util/util.py\", line 39, in reraise\n",
      "    raise value\n",
      "  File \"/home/raul/.local/lib/python3.10/site-packages/urllib3/connectionpool.py\", line 793, in urlopen\n",
      "    response = self._make_request(\n",
      "  File \"/home/raul/.local/lib/python3.10/site-packages/urllib3/connectionpool.py\", line 539, in _make_request\n",
      "    self._raise_timeout(err=e, url=url, timeout_value=read_timeout)\n",
      "  File \"/home/raul/.local/lib/python3.10/site-packages/urllib3/connectionpool.py\", line 370, in _raise_timeout\n",
      "    raise ReadTimeoutError(\n",
      "urllib3.exceptions.ReadTimeoutError: HTTPSConnectionPool(host='api.telegram.org', port=443): Read timed out. (read timeout=25)\n",
      "\n",
      "During handling of the above exception, another exception occurred:\n",
      "\n",
      "Traceback (most recent call last):\n",
      "  File \"/home/raul/.local/lib/python3.10/site-packages/telebot/__init__.py\", line 1081, in infinity_polling\n",
      "    self.polling(non_stop=True, timeout=timeout, long_polling_timeout=long_polling_timeout,\n",
      "  File \"/home/raul/.local/lib/python3.10/site-packages/telebot/__init__.py\", line 1169, in polling\n",
      "    self.__threaded_polling(non_stop=non_stop, interval=interval, timeout=timeout, long_polling_timeout=long_polling_timeout,\n",
      "  File \"/home/raul/.local/lib/python3.10/site-packages/telebot/__init__.py\", line 1244, in __threaded_polling\n",
      "    raise e\n",
      "  File \"/home/raul/.local/lib/python3.10/site-packages/telebot/__init__.py\", line 1205, in __threaded_polling\n",
      "    polling_thread.raise_exceptions()\n",
      "  File \"/home/raul/.local/lib/python3.10/site-packages/telebot/util.py\", line 111, in raise_exceptions\n",
      "    raise self.exception_info\n",
      "  File \"/home/raul/.local/lib/python3.10/site-packages/telebot/util.py\", line 93, in run\n",
      "    task(*args, **kwargs)\n",
      "  File \"/home/raul/.local/lib/python3.10/site-packages/telebot/__init__.py\", line 675, in __retrieve_updates\n",
      "    updates = self.get_updates(offset=(self.last_update_id + 1),\n",
      "  File \"/home/raul/.local/lib/python3.10/site-packages/telebot/__init__.py\", line 647, in get_updates\n",
      "    json_updates = apihelper.get_updates(\n",
      "  File \"/home/raul/.local/lib/python3.10/site-packages/telebot/apihelper.py\", line 327, in get_updates\n",
      "    return _make_request(token, method_url, params=payload)\n",
      "  File \"/home/raul/.local/lib/python3.10/site-packages/telebot/apihelper.py\", line 161, in _make_request\n",
      "    result = _get_req_session().request(\n",
      "  File \"/home/raul/.local/lib/python3.10/site-packages/requests/sessions.py\", line 589, in request\n",
      "    resp = self.send(prep, **send_kwargs)\n",
      "  File \"/home/raul/.local/lib/python3.10/site-packages/requests/sessions.py\", line 703, in send\n",
      "    r = adapter.send(request, **kwargs)\n",
      "  File \"/home/raul/.local/lib/python3.10/site-packages/requests/adapters.py\", line 532, in send\n",
      "    raise ReadTimeout(e, request=request)\n",
      "requests.exceptions.ReadTimeout: HTTPSConnectionPool(host='api.telegram.org', port=443): Read timed out. (read timeout=25)\n",
      "\"\n"
     ]
    },
    {
     "name": "stdout",
     "output_type": "stream",
     "text": [
      " ***** User msg:  which authors works in computer vision AI and had published in arxiv?  *****\n",
      "***** Looking for relevant information... *****\n",
      "**** retrieved ids ****\n",
      " ['1699080', '144562609', '145689002', '145340672', '2052135690', 'a473f545318325ba23b7a6b477485d29777ba873', '2069319183', '3025260', '144467092', '2754804', '5c378ca2e4699eaf763de9f8ec02ca89860bb1cf', '1764560', '3229686', '81338045', '1721484']\n",
      " ***** Agent msg:  I have analyzed the provided data, and I found that there are no authors who have published specifically in arXiv and work in the field of Computer Vision and AI. However, I can provide you with a list of authors who work in Computer Vision and AI and have published in various conferences and journals.\n",
      "\n",
      "1. Devendra Singh Chaplot: Works in Computer Vision and AI, and has published the paper 'Neural Topological SLAM for Visual Navigation' in Computer Vision and Pattern Recognition.\n",
      "\n",
      "2. R. Salakhutdinov: Works in Computer Vision and AI, and has co-authored the paper 'Neural Topological SLAM for Visual Navigation' in Computer Vision and Pattern Recognition.\n",
      "\n",
      "3. A. Gupta: Works in Computer Vision and AI, and has co-authored the paper 'Neural Topological SLAM for Visual Navigation' in Computer Vision and Pattern Recognition.\n",
      "\n",
      "4. Saurabh Gupta: Works in Computer Vision and AI, and has co-authored the paper 'Neural Topological SLAM for Visual Navigation' in Computer Vision and Pattern Recognition.\n",
      "\n",
      "5. Michal Kempka: Works in Computer Vision and AI, and has co-authored the paper 'ViZDoom: A Doom-based AI research platform for visual reinforcement learning' in IEEE Conference on Computational Intelligence and Games.\n",
      "\n",
      "6. Marek Wydmuch: Works in Computer Vision and AI, and has co-authored the paper 'ViZDoom: A Doom-based AI research platform for visual reinforcement learning' in IEEE Conference on Computational Intelligence and Games.\n",
      "\n",
      "7. Grzegorz Runc: Works in Computer Vision and AI, and has co-authored the paper 'ViZDoom: A Doom-based AI research platform for visual reinforcement learning' in IEEE Conference on Computational Intelligence and Games.\n",
      "\n",
      "8. Jakub Toczek: Works in Computer Vision and AI, and has co-authored the paper 'ViZDoom: A Doom-based AI research platform for visual reinforcement learning' in IEEE Conference on Computational Intelligence and Games.\n",
      "\n",
      "9. Wojciech Jaśkowski: Works in Computer Vision and AI, and has co-authored the paper 'ViZDoom: A Doom-based AI research platform for visual reinforcement learning' in IEEE Conference on Computational Intelligence and Games.\n",
      "\n",
      "I hope this information is helpful. If you have any other questions, please let me know.  *****\n"
     ]
    },
    {
     "name": "stderr",
     "output_type": "stream",
     "text": [
      "2024-05-25 11:08:51,792 (__init__.py:1092 MainThread) ERROR - TeleBot: \"Infinity polling: polling exited\"\n",
      "2024-05-25 11:08:51,792 (__init__.py:1094 MainThread) ERROR - TeleBot: \"Break infinity polling\"\n"
     ]
    }
   ],
   "source": [
    "@utils.BOT.message_handler(func=lambda msg: True)\n",
    "def echo_all(message):\n",
    "    print(' ***** User msg: ',message.text,' *****')\n",
    "    usr_msg = message.text\n",
    "    reception_answer = utils.request_agent(usr_msg, role=\"recepcionist\", \n",
    "                                           max_tokens=1000)\n",
    "    response = reception_answer['response']\n",
    "    \n",
    "    if response==\"redirect\":\n",
    "        print('***** Looking for relevant information... *****')\n",
    "        emb_q = utils.CUSTOM_MODEL.encode(usr_msg)\n",
    "        res_ir =  utils.get_top_k_relevant_info(emb_q, k=15)[:35000]\n",
    "        rag_prompt = f\"Please read the following information:\\n{res_ir}\\nand use it to answer the user's question:\\n{usr_msg}\"\n",
    "        \n",
    "        response = utils.request_agent(rag_prompt, role=\"analyst\", \n",
    "                                       temperature=0.4, response_format=\"text\").get('response', 'Sorry, I could not find an answer to your question. Try again later.')\n",
    "        \n",
    "    print(' ***** Agent msg: ',response, ' *****')\n",
    "    utils.BOT.reply_to(message, response)\n",
    "    \n",
    "utils.BOT.infinity_polling()"
   ]
  },
  {
   "cell_type": "code",
   "execution_count": null,
   "metadata": {},
   "outputs": [],
   "source": []
  }
 ],
 "metadata": {
  "kernelspec": {
   "display_name": "Python 3 (ipykernel)",
   "language": "python",
   "name": "python3"
  },
  "language_info": {
   "codemirror_mode": {
    "name": "ipython",
    "version": 3
   },
   "file_extension": ".py",
   "mimetype": "text/x-python",
   "name": "python",
   "nbconvert_exporter": "python",
   "pygments_lexer": "ipython3",
   "version": "3.10.12"
  }
 },
 "nbformat": 4,
 "nbformat_minor": 4
}
