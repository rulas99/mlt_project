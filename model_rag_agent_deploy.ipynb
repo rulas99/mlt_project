{
 "cells": [
  {
   "cell_type": "code",
   "execution_count": 1,
   "metadata": {},
   "outputs": [
    {
     "data": {
      "text/plain": [
       "'\\n## Only run this script the first time to generate the embeddings for the entities\\n\\nfrom sentence_transformers import SentenceTransformer\\nimport pandas as pd\\n\\nmodel = SentenceTransformer(\"./results/domain_adaptation_model\", device=\\'cuda\\')\\n#model = SentenceTransformer(\"sentence-transformers/all-MiniLM-L12-v2\", device=\\'cuda\\')\\n\\ndf = pd.read_parquet(\\'data/triples_corpus.parquet\\')\\ndata = pd.read_parquet(\\'data/mlt_data_publications.parquet\\', \\n                       columns=[\\'paperId\\', \\'title\\', \\'abstract\\', \\'venue\\', \\'s2FieldsOfStudy\\',\\n                                \\'publicationDate\\', \\'authors\\'])\\n\\nentities = {i: e for e, i in zip(df.subject.tolist() + df.object.tolist(), df.subjectId.tolist() + df.objectId.tolist())}\\nemb_ents = model.encode(list(entities.values()))\\n\\npd.to_pickle(entities, \\'data/vector_store/entities.pkl\\')\\npd.DataFrame(emb_ents).to_parquet(\\'data/vector_store/emb_ents.parquet\\')\\n'"
      ]
     },
     "execution_count": 1,
     "metadata": {},
     "output_type": "execute_result"
    }
   ],
   "source": [
    "\"\"\"\n",
    "## Only run this script the first time to generate the embeddings for the entities\n",
    "\n",
    "from sentence_transformers import SentenceTransformer\n",
    "import pandas as pd\n",
    "\n",
    "model = SentenceTransformer(\"./results/domain_adaptation_model\", device='cuda')\n",
    "#model = SentenceTransformer(\"sentence-transformers/all-MiniLM-L12-v2\", device='cuda')\n",
    "\n",
    "df = pd.read_parquet('data/triples_corpus.parquet')\n",
    "data = pd.read_parquet('data/mlt_data_publications.parquet', \n",
    "                       columns=['paperId', 'title', 'abstract', 'venue', 's2FieldsOfStudy',\n",
    "                                'publicationDate', 'authors'])\n",
    "\n",
    "entities = {i: e for e, i in zip(df.subject.tolist() + df.object.tolist(), df.subjectId.tolist() + df.objectId.tolist())}\n",
    "emb_ents = model.encode(list(entities.values()))\n",
    "\n",
    "pd.to_pickle(entities, 'data/vector_store/entities.pkl')\n",
    "pd.DataFrame(emb_ents).to_parquet('data/vector_store/emb_ents.parquet')\n",
    "\"\"\""
   ]
  },
  {
   "cell_type": "code",
   "execution_count": 1,
   "metadata": {},
   "outputs": [
    {
     "data": {
      "text/plain": [
       "<module 'utils' from '/home/raul/Escritorio/extra/misis/ml_tech/mlt_project/utils/__init__.py'>"
      ]
     },
     "execution_count": 1,
     "metadata": {},
     "output_type": "execute_result"
    }
   ],
   "source": [
    "import utils\n",
    "import importlib\n",
    "importlib.reload(utils)"
   ]
  },
  {
   "cell_type": "markdown",
   "metadata": {},
   "source": [
    "## Ejemplo RAG:"
   ]
  },
  {
   "cell_type": "code",
   "execution_count": 4,
   "metadata": {},
   "outputs": [
    {
     "name": "stdout",
     "output_type": "stream",
     "text": [
      "**** retrieved ids ****\n",
      " ['ac9748ea3945eb970cc32a37db7cfdfd0f22e74c', '7b8985fb105bd863501bb366f48fc55bbd935424', '0721c8eb12ea00b7c3769a5e40592b65d8e7a71b', '523c82c922f761deccd85f95d95b8a4bb34bef5f', 'ab657a056195325116f056cbfdca48a483453e3d', 'a2c3fd9a7d0813a88cbed195b08b0fe30d790aa7', 'ab27aad2ee38379825be9bff95e6a1f9f9981e1c', '3eaa82bffade4787ec1d20a86a5cd51afcdbfef8', '39524eeeeed96be8a2970caf0fa2673c9b4314b9', 'd607b773d2719a5948bab0c16500e4f00fd61df8']\n",
      "\n",
      "**** Augmented response ****\n",
      "The papers that were published in the venue 'IEEE Transactions on Medical Imaging' are:\n",
      "- 'Ridge-based vessel segmentation in color images of the retina'\n",
      "- 'Segmenting Retinal Blood Vessels With Deep Neural Networks'\n",
      "- 'Model-based quantitation of 3-D magnetic resonance angiographic images'\n",
      "- 'Geometrically correct 3-D reconstruction of intravascular ultrasound images by fusion with biplane angiography-methods and validation'\n"
     ]
    }
   ],
   "source": [
    "usr_msg = \"Which papers were published in the venue ’IEEE Transactions on Medical Imaging’?\"\n",
    "\n",
    "reception_answer = utils.request_agent(usr_msg, role=\"recepcionist\",\n",
    "                                       max_tokens=1000)\n",
    "response = reception_answer['response']\n",
    "if response==\"redirect\":\n",
    "    emb_q = utils.CUSTOM_MODEL.encode(usr_msg)\n",
    "    res_ir =  utils.get_top_k_relevant_info(emb_q, k=10)\n",
    "    rag_prompt = f\"Please read the following information:\\n{res_ir}\\nand use it to answer the user's question:\\n{usr_msg}\"\n",
    "        \n",
    "    response = utils.request_agent(rag_prompt, role=\"analyst\", \n",
    "                                   temperature=0.3, response_format=\"text\")\n",
    "\n",
    "print()\n",
    "print('**** Augmented response ****')\n",
    "print(response['response'])"
   ]
  },
  {
   "cell_type": "markdown",
   "metadata": {},
   "source": [
    "## Implementación del Agente RAG en un Bot de Telegram"
   ]
  },
  {
   "cell_type": "code",
   "execution_count": 4,
   "metadata": {},
   "outputs": [
    {
     "name": "stdout",
     "output_type": "stream",
     "text": [
      "Hi! <class 'telebot.types.Message'>\n",
      "Hi! How can I help you? You can ask questions about scientific publications, authors, fields of study, and venues. If I have relevant information, I will gladly provide it. ********************\n",
      "Show me papers that have been published on arxiv.org and are about computer science. <class 'telebot.types.Message'>\n",
      "[{'title': 'Paper 1 Title', 'authors': ['Author 1', 'Author 2'], 'venue': 'arXiv.org', 'field_of_study': 'Computer Science'}, {'title': 'Paper 2 Title', 'authors': ['Author 3', 'Author 4'], 'venue': 'arXiv.org', 'field_of_study': 'Computer Science'}, {'title': 'Paper 3 Title', 'authors': ['Author 5', 'Author 6'], 'venue': 'arXiv.org', 'field_of_study': 'Computer Science'}] ********************\n",
      "What papers has Kirk Fiedler written? <class 'telebot.types.Message'>\n",
      "Kirk Fiedler has written the following papers:\n",
      "\n",
      "1. 'EyeSpy: supporting navigation through play'\n",
      "2. \"IS '97: model curriculum and guidelines for undergraduate degree programs in information systems\"\n",
      "3. 'Mining distance-based outliers in near linear time with randomization and a simple pruning rule'\n",
      "\n",
      "These papers were published in the International Conference on Human Factors in Computing Systems, IEEE International Conference on Intelligent Systems, and Knowledge Discovery and Data Mining, respectively. ********************\n",
      "Which authors work in biology? <class 'telebot.types.Message'>\n",
      "Here are some authors who work in the field of biology: 1. Rachel Wilson, a neurobiologist at the University of California, San Francisco. 2. Carl Zimmer, a science writer who specializes in biology. 3. E.O. Wilson, a biologist and professor emeritus at Harvard University. 4. Sean B. Carroll, a biologist and geneticist at the University of Wisconsin-Madison. 5. Evelyn Fox Keller, a biologist and historian of science at the Massachusetts Institute of Technology. ********************\n",
      "Which authors have co-authored with T. Feder? <class 'telebot.types.Message'>\n",
      "The following authors have co-authored with T. Feder: Y. Bengio, R. Lozano, M. Riley, and P. Stone. These are just a few examples, and there may be others. ********************\n"
     ]
    },
    {
     "name": "stderr",
     "output_type": "stream",
     "text": [
      "2024-05-21 11:57:30,154 (__init__.py:1092 MainThread) ERROR - TeleBot: \"Infinity polling: polling exited\"\n",
      "2024-05-21 11:57:30,154 (__init__.py:1094 MainThread) ERROR - TeleBot: \"Break infinity polling\"\n"
     ]
    }
   ],
   "source": [
    "@utils.BOT.message_handler(func=lambda msg: True)\n",
    "def echo_all(message):\n",
    "    print(message.text, type(message))\n",
    "    usr_msg = message.text\n",
    "    reception_answer = utils.request_agent(usr_msg, role=\"recepcionist\", \n",
    "                                       model='mixtral-8x7b-32768', max_tokens=1000)\n",
    "    response = reception_answer['response']\n",
    "    \n",
    "    if response==\"redirect\":\n",
    "        emb_q = utils.CUSTOM_MODEL.encode(usr_msg)\n",
    "        res_ir =  utils.get_top_k_relevant_info(emb_q, k=10)\n",
    "        rag_prompt = f\"Please read the following information:\\n{res_ir}\\nand use it to answer the user's question:\\n{usr_msg}\"\n",
    "        \n",
    "        response = utils.request_agent(rag_prompt, role=\"analyst\", \n",
    "                                       temperature=0.3, response_format=\"text\").get('response', 'Sorry, I could not find an answer to your question. Try again later.')\n",
    "        \n",
    "    print(response, '**'*10)\n",
    "    utils.BOT.reply_to(message, response)\n",
    "    \n",
    "utils.BOT.infinity_polling()"
   ]
  },
  {
   "cell_type": "code",
   "execution_count": null,
   "metadata": {},
   "outputs": [],
   "source": []
  }
 ],
 "metadata": {
  "kernelspec": {
   "display_name": "Python 3 (ipykernel)",
   "language": "python",
   "name": "python3"
  },
  "language_info": {
   "codemirror_mode": {
    "name": "ipython",
    "version": 3
   },
   "file_extension": ".py",
   "mimetype": "text/x-python",
   "name": "python",
   "nbconvert_exporter": "python",
   "pygments_lexer": "ipython3",
   "version": "3.10.12"
  }
 },
 "nbformat": 4,
 "nbformat_minor": 4
}
