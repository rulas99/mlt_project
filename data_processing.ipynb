{
 "cells": [
  {
   "cell_type": "code",
   "execution_count": 1,
   "metadata": {},
   "outputs": [],
   "source": [
    "import pandas as pd\n",
    "import re\n",
    "import random\n",
    "\n",
    "random.seed(42)"
   ]
  },
  {
   "cell_type": "code",
   "execution_count": 2,
   "metadata": {},
   "outputs": [],
   "source": [
    "data = pd.read_parquet(\"data/mlt_data_publications.parquet\")"
   ]
  },
  {
   "cell_type": "markdown",
   "metadata": {},
   "source": [
    "### Authors QA pairs with id for training"
   ]
  },
  {
   "cell_type": "code",
   "execution_count": 3,
   "metadata": {},
   "outputs": [],
   "source": [
    "authors = []\n",
    "for row in data.itertuples():\n",
    "    for author in row.authors:\n",
    "        names = [author.get('name')]\n",
    "        \n",
    "        try:\n",
    "            aliases = author.get('aliases').tolist()\n",
    "        except AttributeError:\n",
    "            aliases = []\n",
    "        \n",
    "        names += aliases\n",
    "        \n",
    "        names = [' '.join(set(re.sub(r'\\s+', ' ', name).split(' ')) )for name in names]\n",
    "\n",
    "        for name in list(set(names)):\n",
    "            authors.append({'author': name, 'publication': row.title, \n",
    "                            'paperId': row.paperId, 'authorId': author.get('authorId')})"
   ]
  },
  {
   "cell_type": "code",
   "execution_count": 4,
   "metadata": {},
   "outputs": [
    {
     "data": {
      "text/plain": [
       "1000"
      ]
     },
     "execution_count": 4,
     "metadata": {},
     "output_type": "execute_result"
    }
   ],
   "source": [
    "authors = pd.DataFrame(authors)\n",
    "\n",
    "## Reduce the dataset! This should be removed in the final version\n",
    "authors['len_name'] = authors.author.apply(len)\n",
    "authors.sort_values(['paperId','authorId','len_name'], ascending=False, inplace=True)\n",
    "authors.drop_duplicates(subset=['paperId','authorId'], keep='first', inplace=True)\n",
    "\n",
    "authors = authors.sample(1000, random_state=42).reset_index(drop=True)\n",
    "len(authors)"
   ]
  },
  {
   "cell_type": "code",
   "execution_count": 5,
   "metadata": {},
   "outputs": [],
   "source": [
    "question_answer_pairs_authors = [\n",
    "    (f'Who wrote the paper titled \"{row.publication}\"?', row.author, row.authorId)\n",
    "    for row in authors.itertuples()\n",
    "]"
   ]
  },
  {
   "cell_type": "code",
   "execution_count": 6,
   "metadata": {},
   "outputs": [],
   "source": [
    "pd.to_pickle(question_answer_pairs_authors, 'data/qa_subsets/qa_authors.pkl')"
   ]
  },
  {
   "cell_type": "markdown",
   "metadata": {},
   "source": [
    "### Create (paper1, cite/ref, paper2) triples & QA pairs with id for training"
   ]
  },
  {
   "cell_type": "code",
   "execution_count": 7,
   "metadata": {},
   "outputs": [
    {
     "data": {
      "text/plain": [
       "719"
      ]
     },
     "execution_count": 7,
     "metadata": {},
     "output_type": "execute_result"
    }
   ],
   "source": [
    "papers = data[data.paperId.isin(authors.paperId)]\n",
    "\n",
    "titles_map = {row.paperId:row.title for row in data.itertuples()}\n",
    "\n",
    "related_pubs = [(titles_map[row.paperId], 'relatedWith', titles_map[row.source], row.paperId) \n",
    "                for row in papers.itertuples() if row.con_type!='base']\n",
    "\n",
    "question_answer_pairs = [\n",
    "    (f'Which paper is cited or referenced in the paper titled \"{triple[0]}\"?', triple[2], triple[3])\n",
    "    for triple in related_pubs\n",
    "]\n",
    "\n",
    "len(question_answer_pairs)"
   ]
  },
  {
   "cell_type": "code",
   "execution_count": 8,
   "metadata": {},
   "outputs": [],
   "source": [
    "pd.to_pickle(question_answer_pairs, 'data/qa_subsets/qa_cites_refs.pkl')"
   ]
  },
  {
   "cell_type": "markdown",
   "metadata": {},
   "source": [
    "#### Join all qa training pairs"
   ]
  },
  {
   "cell_type": "code",
   "execution_count": 9,
   "metadata": {},
   "outputs": [],
   "source": [
    "qa = question_answer_pairs + question_answer_pairs_authors"
   ]
  },
  {
   "cell_type": "code",
   "execution_count": 10,
   "metadata": {},
   "outputs": [
    {
     "data": {
      "text/plain": [
       "1719"
      ]
     },
     "execution_count": 10,
     "metadata": {},
     "output_type": "execute_result"
    }
   ],
   "source": [
    "len(qa)"
   ]
  },
  {
   "cell_type": "code",
   "execution_count": 11,
   "metadata": {},
   "outputs": [],
   "source": [
    "pd.to_pickle(qa, 'data/qa_training.pkl')"
   ]
  },
  {
   "cell_type": "markdown",
   "metadata": {},
   "source": [
    "#### Save evaluation set"
   ]
  },
  {
   "cell_type": "code",
   "execution_count": 17,
   "metadata": {},
   "outputs": [],
   "source": [
    "evaluation = random.choices(question_answer_pairs, k=300) +\\\n",
    "             random.choices(question_answer_pairs_authors, k=300)"
   ]
  },
  {
   "cell_type": "code",
   "execution_count": 18,
   "metadata": {},
   "outputs": [
    {
     "data": {
      "text/html": [
       "<div>\n",
       "<style scoped>\n",
       "    .dataframe tbody tr th:only-of-type {\n",
       "        vertical-align: middle;\n",
       "    }\n",
       "\n",
       "    .dataframe tbody tr th {\n",
       "        vertical-align: top;\n",
       "    }\n",
       "\n",
       "    .dataframe thead th {\n",
       "        text-align: right;\n",
       "    }\n",
       "</style>\n",
       "<table border=\"1\" class=\"dataframe\">\n",
       "  <thead>\n",
       "    <tr style=\"text-align: right;\">\n",
       "      <th></th>\n",
       "      <th>id</th>\n",
       "      <th>question</th>\n",
       "      <th>answer</th>\n",
       "      <th>answerId</th>\n",
       "    </tr>\n",
       "  </thead>\n",
       "  <tbody>\n",
       "    <tr>\n",
       "      <th>0</th>\n",
       "      <td>0</td>\n",
       "      <td>Which paper is cited or referenced in the pape...</td>\n",
       "      <td>A multivariate analysis of 59 candidate genes ...</td>\n",
       "      <td>1f585073d6f5bfc9f9b38a5656b02bdde108c916</td>\n",
       "    </tr>\n",
       "    <tr>\n",
       "      <th>1</th>\n",
       "      <td>1</td>\n",
       "      <td>Which paper is cited or referenced in the pape...</td>\n",
       "      <td>Current Assessment of Docking into GPCR Crysta...</td>\n",
       "      <td>ee681b0d9bac1b5a0f03b82bec75bf14a99d087b</td>\n",
       "    </tr>\n",
       "    <tr>\n",
       "      <th>2</th>\n",
       "      <td>2</td>\n",
       "      <td>Which paper is cited or referenced in the pape...</td>\n",
       "      <td>Real-time and accurate segmentation of moving ...</td>\n",
       "      <td>43a408eae98bd8a8e7363ba47dafe363a01efb5a</td>\n",
       "    </tr>\n",
       "    <tr>\n",
       "      <th>3</th>\n",
       "      <td>3</td>\n",
       "      <td>Which paper is cited or referenced in the pape...</td>\n",
       "      <td>Impaired face discrimination in acquired proso...</td>\n",
       "      <td>96a0bd3baa22fa3330b87943fed790160b0af7fe</td>\n",
       "    </tr>\n",
       "    <tr>\n",
       "      <th>4</th>\n",
       "      <td>4</td>\n",
       "      <td>Which paper is cited or referenced in the pape...</td>\n",
       "      <td>Toward Optimal Data Aggregation in Random Wire...</td>\n",
       "      <td>7ac5d873742fb30a04725f19a61f0820466c55bb</td>\n",
       "    </tr>\n",
       "    <tr>\n",
       "      <th>...</th>\n",
       "      <td>...</td>\n",
       "      <td>...</td>\n",
       "      <td>...</td>\n",
       "      <td>...</td>\n",
       "    </tr>\n",
       "    <tr>\n",
       "      <th>591</th>\n",
       "      <td>591</td>\n",
       "      <td>Who wrote the paper titled \"Intelligent Adapta...</td>\n",
       "      <td>Alvarez Lluc</td>\n",
       "      <td>2295602</td>\n",
       "    </tr>\n",
       "    <tr>\n",
       "      <th>594</th>\n",
       "      <td>594</td>\n",
       "      <td>Who wrote the paper titled \"The Frankencamera:...</td>\n",
       "      <td>K. Pulli</td>\n",
       "      <td>1704409</td>\n",
       "    </tr>\n",
       "    <tr>\n",
       "      <th>595</th>\n",
       "      <td>595</td>\n",
       "      <td>Who wrote the paper titled \"Low-status compens...</td>\n",
       "      <td>Hippler Jochim</td>\n",
       "      <td>2259108636</td>\n",
       "    </tr>\n",
       "    <tr>\n",
       "      <th>596</th>\n",
       "      <td>596</td>\n",
       "      <td>Who wrote the paper titled \"DTW-D: time series...</td>\n",
       "      <td>Chen Yanping</td>\n",
       "      <td>32289348</td>\n",
       "    </tr>\n",
       "    <tr>\n",
       "      <th>599</th>\n",
       "      <td>599</td>\n",
       "      <td>Who wrote the paper titled \"Comparing Hybrid P...</td>\n",
       "      <td>Beverly Yang</td>\n",
       "      <td>2345503</td>\n",
       "    </tr>\n",
       "  </tbody>\n",
       "</table>\n",
       "<p>510 rows × 4 columns</p>\n",
       "</div>"
      ],
      "text/plain": [
       "      id                                           question  \\\n",
       "0      0  Which paper is cited or referenced in the pape...   \n",
       "1      1  Which paper is cited or referenced in the pape...   \n",
       "2      2  Which paper is cited or referenced in the pape...   \n",
       "3      3  Which paper is cited or referenced in the pape...   \n",
       "4      4  Which paper is cited or referenced in the pape...   \n",
       "..   ...                                                ...   \n",
       "591  591  Who wrote the paper titled \"Intelligent Adapta...   \n",
       "594  594  Who wrote the paper titled \"The Frankencamera:...   \n",
       "595  595  Who wrote the paper titled \"Low-status compens...   \n",
       "596  596  Who wrote the paper titled \"DTW-D: time series...   \n",
       "599  599  Who wrote the paper titled \"Comparing Hybrid P...   \n",
       "\n",
       "                                                answer  \\\n",
       "0    A multivariate analysis of 59 candidate genes ...   \n",
       "1    Current Assessment of Docking into GPCR Crysta...   \n",
       "2    Real-time and accurate segmentation of moving ...   \n",
       "3    Impaired face discrimination in acquired proso...   \n",
       "4    Toward Optimal Data Aggregation in Random Wire...   \n",
       "..                                                 ...   \n",
       "591                                       Alvarez Lluc   \n",
       "594                                           K. Pulli   \n",
       "595                                     Hippler Jochim   \n",
       "596                                       Chen Yanping   \n",
       "599                                       Beverly Yang   \n",
       "\n",
       "                                     answerId  \n",
       "0    1f585073d6f5bfc9f9b38a5656b02bdde108c916  \n",
       "1    ee681b0d9bac1b5a0f03b82bec75bf14a99d087b  \n",
       "2    43a408eae98bd8a8e7363ba47dafe363a01efb5a  \n",
       "3    96a0bd3baa22fa3330b87943fed790160b0af7fe  \n",
       "4    7ac5d873742fb30a04725f19a61f0820466c55bb  \n",
       "..                                        ...  \n",
       "591                                   2295602  \n",
       "594                                   1704409  \n",
       "595                                2259108636  \n",
       "596                                  32289348  \n",
       "599                                   2345503  \n",
       "\n",
       "[510 rows x 4 columns]"
      ]
     },
     "execution_count": 18,
     "metadata": {},
     "output_type": "execute_result"
    }
   ],
   "source": [
    "evaluation = pd.DataFrame(evaluation, columns=['question', 'answer', 'answerId']).reset_index(names='id')\n",
    "evaluation.drop_duplicates('question', inplace=True)\n",
    "evaluation.dropna(inplace=True)\n",
    "\n",
    "evaluation"
   ]
  },
  {
   "cell_type": "code",
   "execution_count": 19,
   "metadata": {},
   "outputs": [],
   "source": [
    "corpus = {row.answerId:row.answer for row in evaluation.itertuples()}\n",
    "queries = {str(row.id):row.question for row in evaluation.itertuples()}\n",
    "relevant_docs = {str(row.id):row.answerId for row in evaluation.itertuples()}"
   ]
  },
  {
   "cell_type": "code",
   "execution_count": 20,
   "metadata": {},
   "outputs": [],
   "source": [
    "evaluation = dict(corpus=corpus, queries=queries, relevant_docs=relevant_docs)"
   ]
  },
  {
   "cell_type": "code",
   "execution_count": 21,
   "metadata": {},
   "outputs": [],
   "source": [
    "pd.to_pickle(evaluation, 'data/qa_evaluation.pkl')"
   ]
  },
  {
   "cell_type": "code",
   "execution_count": null,
   "metadata": {},
   "outputs": [],
   "source": []
  }
 ],
 "metadata": {
  "kernelspec": {
   "display_name": "Python 3",
   "language": "python",
   "name": "python3"
  },
  "language_info": {
   "codemirror_mode": {
    "name": "ipython",
    "version": 3
   },
   "file_extension": ".py",
   "mimetype": "text/x-python",
   "name": "python",
   "nbconvert_exporter": "python",
   "pygments_lexer": "ipython3",
   "version": "3.10.12"
  }
 },
 "nbformat": 4,
 "nbformat_minor": 2
}
