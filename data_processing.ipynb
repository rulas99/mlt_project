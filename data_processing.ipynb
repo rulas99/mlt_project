{
 "cells": [
  {
   "cell_type": "code",
   "execution_count": 4,
   "metadata": {},
   "outputs": [],
   "source": [
    "import pandas as pd\n",
    "import re\n",
    "import random\n",
    "\n",
    "random.seed(42)"
   ]
  },
  {
   "cell_type": "code",
   "execution_count": 5,
   "metadata": {},
   "outputs": [],
   "source": [
    "data = pd.read_parquet(\"data/mlt_data_publications.parquet\")"
   ]
  },
  {
   "cell_type": "markdown",
   "metadata": {},
   "source": [
    "### Authors QA pairs with id for training"
   ]
  },
  {
   "cell_type": "code",
   "execution_count": 6,
   "metadata": {},
   "outputs": [],
   "source": [
    "TOTAL_UNIQUE_AUTHORS = 2500"
   ]
  },
  {
   "cell_type": "code",
   "execution_count": 7,
   "metadata": {},
   "outputs": [],
   "source": [
    "authors = []\n",
    "for row in data.itertuples():\n",
    "    for author in row.authors:\n",
    "        names = [author.get('name')]\n",
    "        \n",
    "        try:\n",
    "            aliases = author.get('aliases').tolist()\n",
    "        except AttributeError:\n",
    "            aliases = []\n",
    "        \n",
    "        names += aliases\n",
    "        \n",
    "        names = [' '.join(set(re.sub(r'\\s+', ' ', name).split(' ')) )for name in names]\n",
    "\n",
    "        for name in list(set(names)):\n",
    "            authors.append({'author': name, 'publication': row.title, \n",
    "                            'paperId': row.paperId, 'authorId': author.get('authorId')})"
   ]
  },
  {
   "cell_type": "code",
   "execution_count": 8,
   "metadata": {},
   "outputs": [
    {
     "data": {
      "text/plain": [
       "2500"
      ]
     },
     "execution_count": 8,
     "metadata": {},
     "output_type": "execute_result"
    }
   ],
   "source": [
    "authors = pd.DataFrame(authors)\n",
    "\n",
    "## Reduce the dataset! This should be removed in the final version\n",
    "authors['len_name'] = authors.author.apply(len)\n",
    "authors.sort_values(['paperId','authorId','len_name'], ascending=False, inplace=True)\n",
    "authors.drop_duplicates(subset=['paperId','authorId'], keep='first', inplace=True)\n",
    "\n",
    "authors = authors.sample(TOTAL_UNIQUE_AUTHORS, random_state=42).reset_index(drop=True)\n",
    "len(authors)"
   ]
  },
  {
   "cell_type": "code",
   "execution_count": 9,
   "metadata": {},
   "outputs": [],
   "source": [
    "question_answer_pairs_authors = [\n",
    "    (f'Who wrote the paper titled \"{row.publication}\"?', row.author, row.authorId)\n",
    "    for row in authors.itertuples()\n",
    "]"
   ]
  },
  {
   "cell_type": "code",
   "execution_count": 10,
   "metadata": {},
   "outputs": [],
   "source": [
    "pd.to_pickle(question_answer_pairs_authors, 'data/qa_subsets/qa_authors.pkl')"
   ]
  },
  {
   "cell_type": "markdown",
   "metadata": {},
   "source": [
    "### Create (paper1, cite/ref, paper2) triples & QA pairs with id for training"
   ]
  },
  {
   "cell_type": "code",
   "execution_count": 11,
   "metadata": {},
   "outputs": [
    {
     "data": {
      "text/plain": [
       "1700"
      ]
     },
     "execution_count": 11,
     "metadata": {},
     "output_type": "execute_result"
    }
   ],
   "source": [
    "papers = data[data.paperId.isin(authors.paperId)]\n",
    "\n",
    "titles_map = {row.paperId:row.title for row in data.itertuples()}\n",
    "\n",
    "related_pubs = [(titles_map[row.paperId], 'relatedWith', titles_map[row.source], row.paperId) \n",
    "                for row in papers.itertuples() if row.con_type!='base']\n",
    "\n",
    "question_answer_pairs = [\n",
    "    (f'Which paper is cited or referenced in the paper titled \"{triple[0]}\"?', triple[2], triple[3])\n",
    "    for triple in related_pubs\n",
    "]\n",
    "\n",
    "len(question_answer_pairs)"
   ]
  },
  {
   "cell_type": "code",
   "execution_count": 12,
   "metadata": {},
   "outputs": [],
   "source": [
    "pd.to_pickle(question_answer_pairs, 'data/qa_subsets/qa_cites_refs.pkl')"
   ]
  },
  {
   "cell_type": "markdown",
   "metadata": {},
   "source": [
    "#### Join all qa training pairs"
   ]
  },
  {
   "cell_type": "code",
   "execution_count": 13,
   "metadata": {},
   "outputs": [],
   "source": [
    "qa = question_answer_pairs + question_answer_pairs_authors"
   ]
  },
  {
   "cell_type": "code",
   "execution_count": 14,
   "metadata": {},
   "outputs": [
    {
     "data": {
      "text/plain": [
       "4200"
      ]
     },
     "execution_count": 14,
     "metadata": {},
     "output_type": "execute_result"
    }
   ],
   "source": [
    "len(qa)"
   ]
  },
  {
   "cell_type": "code",
   "execution_count": 15,
   "metadata": {},
   "outputs": [],
   "source": [
    "pd.to_pickle(qa, 'data/qa_training.pkl')"
   ]
  },
  {
   "cell_type": "markdown",
   "metadata": {},
   "source": [
    "#### Save evaluation set"
   ]
  },
  {
   "cell_type": "code",
   "execution_count": 16,
   "metadata": {},
   "outputs": [],
   "source": [
    "evaluation = random.choices(question_answer_pairs, k=500) +\\\n",
    "             random.choices(question_answer_pairs_authors, k=500)"
   ]
  },
  {
   "cell_type": "code",
   "execution_count": 17,
   "metadata": {},
   "outputs": [
    {
     "data": {
      "text/html": [
       "<div>\n",
       "<style scoped>\n",
       "    .dataframe tbody tr th:only-of-type {\n",
       "        vertical-align: middle;\n",
       "    }\n",
       "\n",
       "    .dataframe tbody tr th {\n",
       "        vertical-align: top;\n",
       "    }\n",
       "\n",
       "    .dataframe thead th {\n",
       "        text-align: right;\n",
       "    }\n",
       "</style>\n",
       "<table border=\"1\" class=\"dataframe\">\n",
       "  <thead>\n",
       "    <tr style=\"text-align: right;\">\n",
       "      <th></th>\n",
       "      <th>id</th>\n",
       "      <th>question</th>\n",
       "      <th>answer</th>\n",
       "      <th>answerId</th>\n",
       "    </tr>\n",
       "  </thead>\n",
       "  <tbody>\n",
       "    <tr>\n",
       "      <th>0</th>\n",
       "      <td>0</td>\n",
       "      <td>Which paper is cited or referenced in the pape...</td>\n",
       "      <td>PerfExplorer: A Performance Data Mining Framew...</td>\n",
       "      <td>6af3228141a9891e57f879c6ea2b48787e56e17f</td>\n",
       "    </tr>\n",
       "    <tr>\n",
       "      <th>1</th>\n",
       "      <td>1</td>\n",
       "      <td>Which paper is cited or referenced in the pape...</td>\n",
       "      <td>A Novel Adaptive Design Methodology for Minimu...</td>\n",
       "      <td>37793d57b862d322404308fcc54b7027d77d6061</td>\n",
       "    </tr>\n",
       "    <tr>\n",
       "      <th>2</th>\n",
       "      <td>2</td>\n",
       "      <td>Which paper is cited or referenced in the pape...</td>\n",
       "      <td>Improving Grid-based SLAM with Rao-Blackwelliz...</td>\n",
       "      <td>6b581dac06dfe4d0221412044fbd843b9af124da</td>\n",
       "    </tr>\n",
       "    <tr>\n",
       "      <th>3</th>\n",
       "      <td>3</td>\n",
       "      <td>Which paper is cited or referenced in the pape...</td>\n",
       "      <td>Free-Steering Relaxation Methods for Problems ...</td>\n",
       "      <td>dd3eefc22d78467971b28f0b0f9b5b09e838fd56</td>\n",
       "    </tr>\n",
       "    <tr>\n",
       "      <th>4</th>\n",
       "      <td>4</td>\n",
       "      <td>Which paper is cited or referenced in the pape...</td>\n",
       "      <td>PAC-Bayes Risk Bounds for Stochastic Averages ...</td>\n",
       "      <td>3505a49f85e7b7bfc3de0cc4c33cf4fd3a5d2bb7</td>\n",
       "    </tr>\n",
       "    <tr>\n",
       "      <th>...</th>\n",
       "      <td>...</td>\n",
       "      <td>...</td>\n",
       "      <td>...</td>\n",
       "      <td>...</td>\n",
       "    </tr>\n",
       "    <tr>\n",
       "      <th>992</th>\n",
       "      <td>992</td>\n",
       "      <td>Who wrote the paper titled \"A Verilog RTL synt...</td>\n",
       "      <td>Rose Jonathan</td>\n",
       "      <td>144172650</td>\n",
       "    </tr>\n",
       "    <tr>\n",
       "      <th>994</th>\n",
       "      <td>994</td>\n",
       "      <td>Who wrote the paper titled \"Wavelet-based affi...</td>\n",
       "      <td>W. Boles</td>\n",
       "      <td>2170172</td>\n",
       "    </tr>\n",
       "    <tr>\n",
       "      <th>995</th>\n",
       "      <td>995</td>\n",
       "      <td>Who wrote the paper titled \"An Efficient Data ...</td>\n",
       "      <td>Zhu Chuanqi</td>\n",
       "      <td>3353152</td>\n",
       "    </tr>\n",
       "    <tr>\n",
       "      <th>997</th>\n",
       "      <td>997</td>\n",
       "      <td>Who wrote the paper titled \"Immunoglobulin gen...</td>\n",
       "      <td>N. Maizels</td>\n",
       "      <td>4155046</td>\n",
       "    </tr>\n",
       "    <tr>\n",
       "      <th>999</th>\n",
       "      <td>999</td>\n",
       "      <td>Who wrote the paper titled \"Three Design Aspec...</td>\n",
       "      <td>Hanzo L.</td>\n",
       "      <td>1730180</td>\n",
       "    </tr>\n",
       "  </tbody>\n",
       "</table>\n",
       "<p>876 rows × 4 columns</p>\n",
       "</div>"
      ],
      "text/plain": [
       "      id                                           question  \\\n",
       "0      0  Which paper is cited or referenced in the pape...   \n",
       "1      1  Which paper is cited or referenced in the pape...   \n",
       "2      2  Which paper is cited or referenced in the pape...   \n",
       "3      3  Which paper is cited or referenced in the pape...   \n",
       "4      4  Which paper is cited or referenced in the pape...   \n",
       "..   ...                                                ...   \n",
       "992  992  Who wrote the paper titled \"A Verilog RTL synt...   \n",
       "994  994  Who wrote the paper titled \"Wavelet-based affi...   \n",
       "995  995  Who wrote the paper titled \"An Efficient Data ...   \n",
       "997  997  Who wrote the paper titled \"Immunoglobulin gen...   \n",
       "999  999  Who wrote the paper titled \"Three Design Aspec...   \n",
       "\n",
       "                                                answer  \\\n",
       "0    PerfExplorer: A Performance Data Mining Framew...   \n",
       "1    A Novel Adaptive Design Methodology for Minimu...   \n",
       "2    Improving Grid-based SLAM with Rao-Blackwelliz...   \n",
       "3    Free-Steering Relaxation Methods for Problems ...   \n",
       "4    PAC-Bayes Risk Bounds for Stochastic Averages ...   \n",
       "..                                                 ...   \n",
       "992                                      Rose Jonathan   \n",
       "994                                           W. Boles   \n",
       "995                                        Zhu Chuanqi   \n",
       "997                                         N. Maizels   \n",
       "999                                           Hanzo L.   \n",
       "\n",
       "                                     answerId  \n",
       "0    6af3228141a9891e57f879c6ea2b48787e56e17f  \n",
       "1    37793d57b862d322404308fcc54b7027d77d6061  \n",
       "2    6b581dac06dfe4d0221412044fbd843b9af124da  \n",
       "3    dd3eefc22d78467971b28f0b0f9b5b09e838fd56  \n",
       "4    3505a49f85e7b7bfc3de0cc4c33cf4fd3a5d2bb7  \n",
       "..                                        ...  \n",
       "992                                 144172650  \n",
       "994                                   2170172  \n",
       "995                                   3353152  \n",
       "997                                   4155046  \n",
       "999                                   1730180  \n",
       "\n",
       "[876 rows x 4 columns]"
      ]
     },
     "execution_count": 17,
     "metadata": {},
     "output_type": "execute_result"
    }
   ],
   "source": [
    "evaluation = pd.DataFrame(evaluation, columns=['question', 'answer', 'answerId']).reset_index(names='id')\n",
    "evaluation.drop_duplicates('question', inplace=True)\n",
    "evaluation.dropna(inplace=True)\n",
    "\n",
    "evaluation"
   ]
  },
  {
   "cell_type": "code",
   "execution_count": 18,
   "metadata": {},
   "outputs": [],
   "source": [
    "corpus = {row.answerId:row.answer for row in evaluation.itertuples()}\n",
    "queries = {str(row.id):row.question for row in evaluation.itertuples()}\n",
    "relevant_docs = {str(row.id):row.answerId for row in evaluation.itertuples()}"
   ]
  },
  {
   "cell_type": "code",
   "execution_count": 19,
   "metadata": {},
   "outputs": [],
   "source": [
    "evaluation = dict(corpus=corpus, queries=queries, relevant_docs=relevant_docs)"
   ]
  },
  {
   "cell_type": "code",
   "execution_count": 20,
   "metadata": {},
   "outputs": [],
   "source": [
    "pd.to_pickle(evaluation, 'data/qa_evaluation.pkl')"
   ]
  },
  {
   "cell_type": "code",
   "execution_count": null,
   "metadata": {},
   "outputs": [],
   "source": []
  }
 ],
 "metadata": {
  "kernelspec": {
   "display_name": "Python 3 (ipykernel)",
   "language": "python",
   "name": "python3"
  },
  "language_info": {
   "codemirror_mode": {
    "name": "ipython",
    "version": 3
   },
   "file_extension": ".py",
   "mimetype": "text/x-python",
   "name": "python",
   "nbconvert_exporter": "python",
   "pygments_lexer": "ipython3",
   "version": "3.10.12"
  }
 },
 "nbformat": 4,
 "nbformat_minor": 4
}
