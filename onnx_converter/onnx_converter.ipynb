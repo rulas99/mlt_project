{
 "cells": [
  {
   "cell_type": "code",
   "execution_count": 2,
   "id": "c695be96-a776-454b-bc3b-54358026ad4f",
   "metadata": {},
   "outputs": [],
   "source": [
    "import torch\n",
    "import numpy as np\n",
    "from sentence_transformers import SentenceTransformer\n",
    "from onnx_converter.converter import sentence_transformers_onnx"
   ]
  },
  {
   "cell_type": "code",
   "execution_count": 3,
   "id": "65960833-fb45-4127-9754-59b711896e99",
   "metadata": {},
   "outputs": [],
   "source": [
    "# load the model\n",
    "model = SentenceTransformer.load('./results/domain_adaptation_model')"
   ]
  },
  {
   "cell_type": "code",
   "execution_count": 4,
   "id": "68730452-7c8e-47a8-adb6-04db8ec722aa",
   "metadata": {},
   "outputs": [
    {
     "name": "stderr",
     "output_type": "stream",
     "text": [
      "/home/estudiante/mlt_project/onnx_converter/converter.py:92: TracerWarning: torch.Tensor results are registered as constants in the trace. You can safely ignore this warning if you use this function to create tensors out of constant variables that would be the same every time you call this function. In any other case, this might cause the trace to be incorrect.\n",
      "  \"token_embeddings\": torch.Tensor(hidden_state[0]),\n",
      "/home/estudiante/mlt_project/onnx_converter/converter.py:93: TracerWarning: torch.Tensor results are registered as constants in the trace. You can safely ignore this warning if you use this function to create tensors out of constant variables that would be the same every time you call this function. In any other case, this might cause the trace to be incorrect.\n",
      "  \"attention_mask\": torch.Tensor(attention_mask),\n",
      "/home/estudiante/mlt_project/onnx_converter/converter.py:103: TracerWarning: Converting a tensor to a Python boolean might cause the trace to be incorrect. We can't record the data flow of Python values, so this value will be treated as a constant in the future. This means that the trace might not generalize to other inputs!\n",
      "  if sentence_embedding.shape[0] == 1:\n"
     ]
    },
    {
     "data": {
      "text/plain": [
       "SentenceTransformerModel(\n",
       "  (encoder): BertModel(\n",
       "    (embeddings): BertEmbeddings(\n",
       "      (word_embeddings): Embedding(30522, 384, padding_idx=0)\n",
       "      (position_embeddings): Embedding(512, 384)\n",
       "      (token_type_embeddings): Embedding(2, 384)\n",
       "      (LayerNorm): LayerNorm((384,), eps=1e-12, elementwise_affine=True)\n",
       "      (dropout): Dropout(p=0.1, inplace=False)\n",
       "    )\n",
       "    (encoder): BertEncoder(\n",
       "      (layer): ModuleList(\n",
       "        (0-11): 12 x BertLayer(\n",
       "          (attention): BertAttention(\n",
       "            (self): BertSelfAttention(\n",
       "              (query): Linear(in_features=384, out_features=384, bias=True)\n",
       "              (key): Linear(in_features=384, out_features=384, bias=True)\n",
       "              (value): Linear(in_features=384, out_features=384, bias=True)\n",
       "              (dropout): Dropout(p=0.1, inplace=False)\n",
       "            )\n",
       "            (output): BertSelfOutput(\n",
       "              (dense): Linear(in_features=384, out_features=384, bias=True)\n",
       "              (LayerNorm): LayerNorm((384,), eps=1e-12, elementwise_affine=True)\n",
       "              (dropout): Dropout(p=0.1, inplace=False)\n",
       "            )\n",
       "          )\n",
       "          (intermediate): BertIntermediate(\n",
       "            (dense): Linear(in_features=384, out_features=1536, bias=True)\n",
       "            (intermediate_act_fn): GELUActivation()\n",
       "          )\n",
       "          (output): BertOutput(\n",
       "            (dense): Linear(in_features=1536, out_features=384, bias=True)\n",
       "            (LayerNorm): LayerNorm((384,), eps=1e-12, elementwise_affine=True)\n",
       "            (dropout): Dropout(p=0.1, inplace=False)\n",
       "          )\n",
       "        )\n",
       "      )\n",
       "    )\n",
       "    (pooler): BertPooler(\n",
       "      (dense): Linear(in_features=384, out_features=384, bias=True)\n",
       "      (activation): Tanh()\n",
       "    )\n",
       "  )\n",
       "  (pooling): Pooling({'word_embedding_dimension': 384, 'pooling_mode_cls_token': False, 'pooling_mode_mean_tokens': True, 'pooling_mode_max_tokens': False, 'pooling_mode_mean_sqrt_len_tokens': False, 'pooling_mode_weightedmean_tokens': False, 'pooling_mode_lasttoken': False, 'include_prompt': True})\n",
       "  (adapter): AdapterModule(\n",
       "    (dense1): Linear(in_features=384, out_features=1024, bias=True)\n",
       "    (dense2): Linear(in_features=1024, out_features=512, bias=True)\n",
       "    (output): Linear(in_features=512, out_features=384, bias=True)\n",
       "    (activation): ReLU()\n",
       "    (dropout): Dropout(p=0.3, inplace=False)\n",
       "  )\n",
       "  (normalization): Normalize()\n",
       ")"
      ]
     },
     "execution_count": 4,
     "metadata": {},
     "output_type": "execute_result"
    }
   ],
   "source": [
    "# Transform the model to use onnx format\n",
    "onnx_model = sentence_transformers_onnx(\n",
    "    model,\n",
    "    output_path=\"triton/model_repository/domain_adapter/1/model\",\n",
    "    config_path=\"results/domain_adaptation_model\",\n",
    "    device=torch.device(\"cpu\")\n",
    ")\n",
    "onnx_model"
   ]
  },
  {
   "cell_type": "code",
   "execution_count": 5,
   "id": "426b0c86-fe13-42b7-8abd-95f963f39567",
   "metadata": {},
   "outputs": [
    {
     "data": {
      "text/plain": [
       "-0.13528061"
      ]
     },
     "execution_count": 5,
     "metadata": {},
     "output_type": "execute_result"
    }
   ],
   "source": [
    "# Compute embeddings for two textual contents and compute dot product\n",
    "with torch.no_grad():\n",
    "    tokens_1 = model.tokenize([\"Composable Lightweight Processors\"])\n",
    "    embedding_1 = onnx_model(tokens_1[\"input_ids\"], tokens_1[\"attention_mask\"], tokens_1[\"token_type_ids\"]).detach().numpy()\n",
    "    \n",
    "    tokens_2 = model.tokenize([\"ocean\"])\n",
    "    embedding_2 = onnx_model(tokens_2[\"input_ids\"], tokens_2[\"attention_mask\"], tokens_2[\"token_type_ids\"]).detach().numpy()\n",
    "\n",
    "# Same results as Pytorch-based model - so conversion seems accurate\n",
    "np.dot(embedding_1, embedding_2)"
   ]
  },
  {
   "cell_type": "code",
   "execution_count": 21,
   "id": "0722b13c-cf77-45b6-947c-32c1d36ace91",
   "metadata": {},
   "outputs": [
    {
     "data": {
      "text/plain": [
       "(1, 7)"
      ]
     },
     "execution_count": 21,
     "metadata": {},
     "output_type": "execute_result"
    }
   ],
   "source": [
    "import numpy as np\n",
    "from torchvision import transforms\n",
    "from PIL import Image\n",
    "import tritonclient.http as httpclient\n",
    "from tritonclient.utils import triton_to_np_dtype\n",
    "\n",
    "# tokenize sentence\n",
    "sentence=[\"Composable Lightweight Processors\"]\n",
    "inputs = model.tokenize(sentence)\n",
    "\n",
    "input_ids = inputs['input_ids'].numpy()\n",
    "token_type_ids = inputs['token_type_ids'].numpy()\n",
    "attention_mask = inputs['attention_mask'].numpy()\n",
    "input_ids.shape"
   ]
  },
  {
   "cell_type": "code",
   "execution_count": 22,
   "id": "c08062cf-f20c-4ca6-8369-3e1551ab6bee",
   "metadata": {},
   "outputs": [
    {
     "data": {
      "text/plain": [
       "<tritonclient.http._infer_result.InferResult at 0x73495d3eb070>"
      ]
     },
     "execution_count": 22,
     "metadata": {},
     "output_type": "execute_result"
    }
   ],
   "source": [
    "# Setting up client\n",
    "client = httpclient.InferenceServerClient(url=\"localhost:8000\")\n",
    "\n",
    "input_ids_triton = httpclient.InferInput(\"input_ids\", input_ids.shape, datatype=\"INT64\")\n",
    "input_ids_triton.set_data_from_numpy(input_ids.astype(np.int64))\n",
    "\n",
    "token_type_ids_triton = httpclient.InferInput(\"token_type_ids\", token_type_ids.shape, datatype=\"INT64\")\n",
    "token_type_ids_triton.set_data_from_numpy(token_type_ids.astype(np.int64))\n",
    "\n",
    "attention_mask_triton = httpclient.InferInput(\"attention_mask\", attention_mask.shape, datatype=\"INT64\")\n",
    "attention_mask_triton.set_data_from_numpy(attention_mask.astype(np.int64))\n",
    "\n",
    "output = httpclient.InferRequestedOutput(\"1770\")\n",
    "\n",
    "# Querying the server\n",
    "results = client.infer(model_name=\"domain_adapter\", inputs=[input_ids_triton, token_type_ids_triton, attention_mask_triton], outputs=[output])\n",
    "results"
   ]
  },
  {
   "cell_type": "code",
   "execution_count": 23,
   "id": "dce55c8c-a026-4117-ac6a-6f07abd5860e",
   "metadata": {},
   "outputs": [
    {
     "data": {
      "text/plain": [
       "array([ 1.52457105e-02,  2.90012565e-02,  8.03360790e-02,  2.02961098e-02,\n",
       "       -8.09904709e-02, -4.72616404e-02, -1.10501960e-01, -4.12367210e-02,\n",
       "       -1.34621616e-02, -4.28459011e-02,  9.64514352e-03, -4.44887765e-02,\n",
       "       -1.08766332e-02, -2.58614197e-02,  6.40462413e-02, -1.47566214e-01,\n",
       "        4.42133732e-02,  4.39511351e-02,  6.85257614e-02,  5.24772704e-02,\n",
       "       -3.27424370e-02, -8.71217400e-02, -3.72922085e-02,  3.93077284e-02,\n",
       "        3.54806781e-02,  3.22242863e-02,  2.48503555e-02, -4.15298976e-02,\n",
       "        1.17560692e-01,  2.10655238e-02, -1.58806201e-02, -3.35653722e-02,\n",
       "       -4.31694724e-02, -1.00515196e-02,  5.43338433e-02,  2.15568524e-02,\n",
       "        3.07858200e-03, -2.57533323e-02, -4.77282293e-02, -1.08492963e-01,\n",
       "        1.15535231e-02,  3.36473882e-02,  2.48221010e-02,  6.98642582e-02,\n",
       "        5.24503961e-02,  6.22404143e-02,  4.54207361e-02,  2.84772459e-02,\n",
       "       -4.67003733e-02, -3.11974715e-02,  1.38023775e-03,  9.28664878e-02,\n",
       "        5.40195741e-02, -4.01789360e-02, -2.09209789e-02, -6.04342073e-02,\n",
       "        8.76871645e-02, -2.42366008e-02, -1.71885565e-02, -5.04872538e-02,\n",
       "        1.09811500e-01, -1.02903955e-01, -2.78997719e-02, -4.54389397e-03,\n",
       "        1.49578517e-02, -4.91744913e-02,  5.67322001e-02,  7.15387659e-03,\n",
       "       -3.19484659e-02,  1.66760739e-02, -1.77407544e-02,  1.01111839e-02,\n",
       "       -9.57846642e-05, -2.57950611e-02, -8.79140496e-02, -1.01436395e-02,\n",
       "       -1.29941646e-02, -8.47818479e-02,  1.01814568e-02, -5.13320230e-03,\n",
       "        1.94933899e-02, -8.01116154e-02, -4.98621799e-02, -6.86843991e-02,\n",
       "       -4.35059816e-02,  6.50345162e-02,  4.03165631e-02,  5.72351217e-02,\n",
       "        5.47310226e-02, -6.74340352e-02, -5.23366872e-03, -7.22047174e-03,\n",
       "       -5.00068739e-02,  3.88662554e-02,  6.44665677e-03, -6.40066192e-02,\n",
       "       -1.95129365e-02,  4.23007198e-02, -9.52336565e-02, -1.09244540e-01,\n",
       "        6.36558905e-02, -5.58959246e-02,  2.04507150e-02,  3.21751647e-02,\n",
       "       -8.63988921e-02,  1.62530057e-02, -3.66493016e-02, -2.10308526e-02,\n",
       "       -1.59331094e-02, -1.19603779e-02,  3.80724631e-02,  1.15631416e-01,\n",
       "       -3.22840065e-02,  7.78806359e-02, -8.78260285e-03,  2.96928771e-02,\n",
       "       -4.04319651e-02, -5.65810055e-02,  1.02781896e-02,  7.98833147e-02,\n",
       "        2.55639199e-02, -5.66418208e-02, -6.77499920e-03,  3.04873538e-04,\n",
       "        5.40734865e-02,  1.10140637e-01, -5.51905856e-02, -5.93691692e-02,\n",
       "        1.02018490e-02,  3.39063779e-02, -1.67764425e-02, -6.72474653e-02,\n",
       "       -1.90082472e-02, -6.99365214e-02,  3.02218385e-02,  6.11487105e-02,\n",
       "       -1.00232288e-02,  6.96924794e-03,  1.56761669e-02, -3.51070799e-02,\n",
       "        1.49937291e-02,  1.85567010e-02, -3.66068259e-02, -5.56497723e-02,\n",
       "        7.39577562e-02,  8.83916393e-02,  9.91374440e-03, -1.97985023e-02,\n",
       "       -5.80077954e-02, -6.04126342e-02, -9.04258937e-02,  7.52407610e-02,\n",
       "       -1.60343852e-02,  3.25720431e-03, -8.51110322e-04,  1.82441566e-02,\n",
       "       -9.19784904e-02,  2.30083503e-02, -5.32146879e-02, -8.05295259e-02,\n",
       "        3.95389721e-02,  8.97358507e-02,  5.06483577e-02,  1.44078508e-02,\n",
       "       -4.64624390e-02,  6.28884649e-03, -2.37295590e-02, -1.74160842e-02,\n",
       "        3.57698128e-02,  2.89348718e-02, -1.93278957e-02,  6.47381740e-03,\n",
       "        1.78226910e-03, -8.35263915e-03,  2.73818001e-02,  4.63410467e-02,\n",
       "        6.70358092e-02, -9.54223946e-02, -2.60895919e-02,  1.03709027e-02,\n",
       "       -2.31481846e-02, -8.85277763e-02,  9.92142856e-02,  4.62034456e-02,\n",
       "        1.15209222e-01,  2.24984344e-02,  7.02093448e-03,  3.49715352e-02,\n",
       "       -2.25994848e-02, -2.96348017e-02, -1.47352129e-01,  3.91349122e-02,\n",
       "        2.02926472e-02,  2.59312950e-02,  5.67693263e-02,  4.73478250e-03,\n",
       "        2.45579495e-03, -2.33429950e-02,  2.19342560e-02,  7.09910598e-03,\n",
       "        9.12067145e-02, -4.30734940e-02, -3.96770276e-02, -4.43315133e-02,\n",
       "       -3.55168199e-03, -2.82024243e-03, -9.69196782e-02, -1.21028470e-02,\n",
       "        8.55730474e-02,  3.28684412e-02,  1.38998888e-02,  4.23424467e-02,\n",
       "        2.94786599e-02, -4.94525321e-02, -6.18788861e-02,  2.20647566e-02,\n",
       "        2.68952120e-02,  6.57944828e-02, -7.44881295e-03, -5.27488440e-02,\n",
       "        4.18830430e-03,  5.39291278e-02,  3.38748060e-02, -3.46960835e-02,\n",
       "        1.99453048e-02, -1.23493373e-01, -1.01932675e-01,  3.97637635e-02,\n",
       "       -5.49649224e-02,  5.46510853e-02, -2.88491286e-02, -7.94853047e-02,\n",
       "       -7.94872642e-02,  9.31125833e-04,  3.74689177e-02,  6.11653179e-02,\n",
       "        3.01248468e-02,  3.69377472e-02, -5.31712882e-02, -5.81050888e-02,\n",
       "       -4.12937626e-02,  1.59500185e-02, -4.09860387e-02,  5.80512136e-02,\n",
       "        1.43653853e-02, -2.30256468e-02,  9.63612050e-02,  3.02971099e-02,\n",
       "        8.66949558e-03,  2.32120194e-02, -1.02188505e-01,  3.37443464e-02,\n",
       "       -1.19359316e-02, -6.42246008e-02, -2.17638724e-02, -1.39055429e-02,\n",
       "        1.80965308e-02,  2.07493827e-02, -1.94366314e-02, -6.77878633e-02,\n",
       "       -4.36484180e-02,  4.88218777e-02,  2.85617784e-02,  6.01731539e-02,\n",
       "        6.83384612e-02,  8.33757818e-02, -3.87582891e-02, -9.32775252e-03,\n",
       "       -4.14055772e-02,  2.55864318e-02,  3.53318714e-02, -7.18981549e-02,\n",
       "        5.63322492e-02, -2.32299743e-03,  3.75768403e-03, -6.67745247e-02,\n",
       "       -1.37551350e-03,  2.44472492e-02, -5.38190231e-02, -8.51035267e-02,\n",
       "        5.78600317e-02,  3.63527164e-02,  4.70510907e-02, -4.48882915e-02,\n",
       "       -2.86051221e-02,  1.86882280e-02,  2.27214899e-02,  4.67315167e-02,\n",
       "       -1.23588890e-02,  3.09967063e-02,  4.93781865e-02, -1.97061826e-03,\n",
       "        4.63442653e-02, -1.50522701e-02, -6.57516047e-02,  1.34090171e-03,\n",
       "        6.07029535e-03, -4.30485457e-02,  4.24098708e-02, -8.80655833e-03,\n",
       "        1.88676771e-02,  5.59397563e-02, -5.77511303e-02,  1.60312895e-02,\n",
       "       -2.69161984e-02,  2.00919807e-02,  3.15109752e-02, -9.21820663e-03,\n",
       "       -2.51487326e-02, -2.67343670e-02, -1.10857226e-01, -6.97595812e-03,\n",
       "        1.96042284e-02,  3.34686935e-02,  3.87318358e-02, -2.05492079e-02,\n",
       "        7.47607648e-02, -2.44664941e-02, -2.66356394e-02, -3.80167589e-02,\n",
       "        7.79982954e-02,  7.48963878e-02, -5.80329634e-02,  4.84657064e-02,\n",
       "        1.41001791e-02, -9.38270465e-02, -6.56672046e-02, -6.98390007e-02,\n",
       "       -6.08250406e-03,  1.46832084e-02,  1.73981730e-02, -2.54986472e-02,\n",
       "        7.74612203e-02, -6.57753721e-02, -6.30640462e-02,  5.12655042e-02,\n",
       "       -6.73599020e-02,  4.40299325e-02, -8.16518962e-02,  1.71266366e-02,\n",
       "       -2.07917634e-02, -3.99942771e-02, -5.39819291e-03,  4.68243770e-02,\n",
       "       -5.22357486e-02,  2.83604525e-02,  1.53346453e-02,  3.90840955e-02,\n",
       "        4.37272862e-02, -1.17680035e-03, -7.67029170e-03, -7.05415606e-02,\n",
       "        7.84226600e-03,  4.08626422e-02, -2.03748289e-02, -3.46934646e-02,\n",
       "       -7.09663704e-03,  1.47389904e-01,  4.71590571e-02, -2.13136598e-02,\n",
       "        3.05307354e-03,  1.46235861e-02, -3.52141447e-02,  1.76412612e-02,\n",
       "        9.74624380e-02, -6.89227208e-02, -9.97961983e-02,  2.89468393e-02,\n",
       "       -7.96851423e-03,  8.73705968e-02,  3.65556218e-02,  1.65103361e-01,\n",
       "       -1.32517833e-02,  1.72251165e-02, -3.45774763e-03, -1.53480815e-02,\n",
       "       -4.39557210e-02,  5.01768738e-02, -2.16687787e-02, -4.00136933e-02,\n",
       "        5.83544038e-02, -6.87992796e-02,  6.00080751e-02,  3.26823741e-02],\n",
       "      dtype=float32)"
      ]
     },
     "execution_count": 23,
     "metadata": {},
     "output_type": "execute_result"
    }
   ],
   "source": [
    "inference_output = results.as_numpy('1770')\n",
    "inference_output"
   ]
  },
  {
   "cell_type": "code",
   "execution_count": null,
   "id": "34b2cccc-c708-460c-ad4a-34052adb9015",
   "metadata": {},
   "outputs": [],
   "source": []
  }
 ],
 "metadata": {
  "kernelspec": {
   "display_name": "Python 3 (ipykernel)",
   "language": "python",
   "name": "python3"
  },
  "language_info": {
   "codemirror_mode": {
    "name": "ipython",
    "version": 3
   },
   "file_extension": ".py",
   "mimetype": "text/x-python",
   "name": "python",
   "nbconvert_exporter": "python",
   "pygments_lexer": "ipython3",
   "version": "3.10.12"
  }
 },
 "nbformat": 4,
 "nbformat_minor": 5
}
